{
 "cells": [
  {
   "cell_type": "markdown",
   "metadata": {},
   "source": [
    "## Lecture 1: Intro to scientific programming (Python version)\n",
    "\n",
    "### MIT Practical Computing Tutorials for Earth Scientists\n",
    "<hr>"
   ]
  },
  {
   "cell_type": "markdown",
   "metadata": {},
   "source": [
    "#### Note: Before starting, make sure you are in an activate Python (version > 3.6) kernel (top right corner of the notebook) or, if not, click it to swap to a Python kernel. Alternatively, you can click on the `Kernel` tab in the menu and select `Change Kernel...`"
   ]
  },
  {
   "cell_type": "markdown",
   "metadata": {
    "toc-hr-collapsed": true
   },
   "source": [
    "### Basic programming 1: variables, types, operations, and lists\n",
    "\n",
    "- Variables (declaration, assignment)\n",
    "- Datatypes (int, float)\n",
    "- Operations (add, subtract, multiply, divide)\n",
    "- Lists"
   ]
  },
  {
   "cell_type": "markdown",
   "metadata": {},
   "source": [
    "#### Variables\n",
    "\n",
    "Think of a variable as a name attached to a particular object. In Python, variables need not be declared or defined in advance, as is the case in many other programming languages. To create a variable, you just assign it a value and then start using it. Assignment is done with a single equals sign (=):"
   ]
  },
  {
   "cell_type": "code",
   "execution_count": 3,
   "metadata": {},
   "outputs": [
    {
     "name": "stdout",
     "output_type": "stream",
     "text": [
      "300\n"
     ]
    }
   ],
   "source": [
    "n = 300\n",
    "print(n)"
   ]
  },
  {
   "cell_type": "markdown",
   "metadata": {},
   "source": [
    "Later, if you change the value of n and use it again, the new value will be substituted instead:"
   ]
  },
  {
   "cell_type": "code",
   "execution_count": 4,
   "metadata": {},
   "outputs": [
    {
     "name": "stdout",
     "output_type": "stream",
     "text": [
      "300\n",
      "1000\n"
     ]
    }
   ],
   "source": [
    "print(n)\n",
    "n = 1000\n",
    "print(n)"
   ]
  },
  {
   "cell_type": "markdown",
   "metadata": {},
   "source": [
    "#### Data types\n",
    "\n",
    "Variables in Python (and other programming languages) have a data 'type'. The 3 most common data types are: integer, float and string. In Python, these types are defined as classes (more on this in the next Lecture). In order to find to which class the variable belongs to you can use type() function.\n",
    "\n",
    "Note that floats represent real numbers and are written with a decimal point dividing the integer and the fractional parts. Floats may also be in scientific notation, with E or e indicating the power of 10 (2.5e2 = 2.5 x 102 = 250)."
   ]
  },
  {
   "cell_type": "code",
   "execution_count": 5,
   "metadata": {},
   "outputs": [
    {
     "name": "stdout",
     "output_type": "stream",
     "text": [
      "<class 'int'>\n",
      "<class 'float'>\n",
      "<class 'str'>\n"
     ]
    }
   ],
   "source": [
    "# This line is commented: anything after the # symbol is not executed \n",
    "a = 5 \n",
    "print(type(a))\n",
    "\n",
    "b = 5.5\n",
    "print(type(b))\n",
    "\n",
    "c = 'Blabla'\n",
    "print(type(c))"
   ]
  },
  {
   "cell_type": "markdown",
   "metadata": {},
   "source": [
    "#### Basic operations\n",
    "\n",
    "Python supports all of the math operations that you would expect. The basic ones are addition, subtraction, multiplication, and division. \n",
    "\n",
    "Note that the result of a division is always of type 'float', even if the two numbers divided are integers. Use '//' to keep it an integer."
   ]
  },
  {
   "cell_type": "code",
   "execution_count": 6,
   "metadata": {},
   "outputs": [
    {
     "name": "stdout",
     "output_type": "stream",
     "text": [
      "<class 'int'>\n",
      "<class 'int'>\n",
      "<class 'float'>\n",
      "<class 'int'>\n",
      "32\n",
      "1\n"
     ]
    }
   ],
   "source": [
    "# Division\n",
    "int_a = 6\n",
    "int_b = 3\n",
    "print(type(int_a))\n",
    "print(type(int_b))\n",
    "print(type(int_a/int_b))\n",
    "print(type(int_a//int_b))\n",
    "\n",
    "# Exponential\n",
    "print(2**5)\n",
    "\n",
    "# Modulo\n",
    "print(9%2)"
   ]
  },
  {
   "cell_type": "code",
   "execution_count": 7,
   "metadata": {},
   "outputs": [
    {
     "name": "stdout",
     "output_type": "stream",
     "text": [
      "blaBLA\n",
      "blablablablabla\n"
     ]
    }
   ],
   "source": [
    "my_string = 'bla'\n",
    "\n",
    "# String Cconcatenation\n",
    "print(my_string + 'BLA')\n",
    "\n",
    "# String repetition\n",
    "print(my_string*5)"
   ]
  },
  {
   "cell_type": "markdown",
   "metadata": {},
   "source": [
    "#### Lists\n",
    "\n",
    "In programming, it is often useful to collect certain variables together under the same name. Lists allow us to do that. A list is a collection of variables that is ordered and changeable. It allows duplicate members.\n",
    "\n",
    "For example, if we want to store the ages of 5 people, we could define 5 variables each with a single value. But that would be tedious. Instead we can create a list, with all the ages, as follows:"
   ]
  },
  {
   "cell_type": "code",
   "execution_count": 8,
   "metadata": {},
   "outputs": [
    {
     "name": "stdout",
     "output_type": "stream",
     "text": [
      "[10, 15, 8, 34, 12]\n",
      "<class 'list'>\n"
     ]
    }
   ],
   "source": [
    "all_ages = [10,15,8,34,12]\n",
    "\n",
    "print(all_ages)\n",
    "print(type(all_ages))"
   ]
  },
  {
   "cell_type": "markdown",
   "metadata": {},
   "source": [
    "One can then access members of the list with the syntax below.\n",
    "Note that indexing in Python starts at 0 and not at 1."
   ]
  },
  {
   "cell_type": "code",
   "execution_count": 9,
   "metadata": {},
   "outputs": [
    {
     "name": "stdout",
     "output_type": "stream",
     "text": [
      "10\n",
      "8\n",
      "12\n",
      "[15, 8]\n",
      "[10, 15, 8]\n",
      "[34, 12]\n"
     ]
    }
   ],
   "source": [
    "print(all_ages[0]) # first element\n",
    "print(all_ages[2]) # Element 2 (the third in the list)\n",
    "print(all_ages[-1]) # last element\n",
    "print(all_ages[1:3]) # Elements 1 to 3 (1 included, 3 excluded)\n",
    "print(all_ages[:3]) # Elements up to 3 (3 excluded)\n",
    "print(all_ages[3:]) # Elements from 3 onwards (3 included)"
   ]
  },
  {
   "cell_type": "markdown",
   "metadata": {
    "toc-hr-collapsed": false
   },
   "source": [
    "#### Exercise 1"
   ]
  },
  {
   "cell_type": "code",
   "execution_count": 10,
   "metadata": {},
   "outputs": [],
   "source": [
    "# 1(a) Make a list called my_list, which contains 2 integers, 2 floats and 1 string. \n",
    "# Print the list.\n",
    "# Print the type of the 4th element."
   ]
  },
  {
   "cell_type": "code",
   "execution_count": 11,
   "metadata": {},
   "outputs": [],
   "source": [
    "# 1(b) Make a new list called 'new_list' that contains all the elments of 'my_list' except the first 2 (use slicing)."
   ]
  },
  {
   "cell_type": "code",
   "execution_count": 12,
   "metadata": {},
   "outputs": [
    {
     "ename": "TypeError",
     "evalue": "can only concatenate str (not \"int\") to str",
     "output_type": "error",
     "traceback": [
      "\u001b[0;31m---------------------------------------------------------------------------\u001b[0m",
      "\u001b[0;31mTypeError\u001b[0m                                 Traceback (most recent call last)",
      "\u001b[0;32m<ipython-input-12-1e65e0cfd9e7>\u001b[0m in \u001b[0;36m<module>\u001b[0;34m\u001b[0m\n\u001b[1;32m      1\u001b[0m \u001b[0;31m# 1(c) Debug the following code:\u001b[0m\u001b[0;34m\u001b[0m\u001b[0;34m\u001b[0m\u001b[0;34m\u001b[0m\u001b[0m\n\u001b[1;32m      2\u001b[0m \u001b[0;34m\u001b[0m\u001b[0m\n\u001b[0;32m----> 3\u001b[0;31m \u001b[0mmy_name\u001b[0m \u001b[0;34m=\u001b[0m \u001b[0;34m'R2D'\u001b[0m \u001b[0;34m+\u001b[0m \u001b[0;36m2\u001b[0m\u001b[0;34m\u001b[0m\u001b[0;34m\u001b[0m\u001b[0m\n\u001b[0m\u001b[1;32m      4\u001b[0m \u001b[0mprint\u001b[0m\u001b[0;34m(\u001b[0m\u001b[0mmy_name\u001b[0m\u001b[0;34m)\u001b[0m\u001b[0;34m\u001b[0m\u001b[0;34m\u001b[0m\u001b[0m\n\u001b[1;32m      5\u001b[0m \u001b[0;34m\u001b[0m\u001b[0m\n",
      "\u001b[0;31mTypeError\u001b[0m: can only concatenate str (not \"int\") to str"
     ]
    }
   ],
   "source": [
    "# 1(c) Debug the following code:\n",
    "\n",
    "my_name = 'R2D' + 2\n",
    "print(my_name)\n",
    "\n",
    "# Hint: Google the function 'str'"
   ]
  },
  {
   "cell_type": "markdown",
   "metadata": {
    "toc-hr-collapsed": true
   },
   "source": [
    "### Basic programming 2: loops, Boolean logic, and conditions"
   ]
  },
  {
   "cell_type": "markdown",
   "metadata": {},
   "source": [
    "#### For loops\n",
    "\n",
    "We often need to do the same operation many times. 'For' loops allow us to just that."
   ]
  },
  {
   "cell_type": "code",
   "execution_count": 13,
   "metadata": {},
   "outputs": [
    {
     "name": "stdout",
     "output_type": "stream",
     "text": [
      "apple\n",
      "banana\n",
      "cherry\n"
     ]
    }
   ],
   "source": [
    "fruits = [\"apple\", \"banana\", \"cherry\"]\n",
    "for x in fruits:\n",
    "    print(x)"
   ]
  },
  {
   "cell_type": "markdown",
   "metadata": {},
   "source": [
    "Note that the name of the variable x doesn't matter. We could also write: \n",
    "```python\n",
    "for fruit in fruits:\n",
    "    print(fruit)\n",
    "```"
   ]
  },
  {
   "cell_type": "markdown",
   "metadata": {},
   "source": [
    "Note that indentation is important in Python! Anything indented after the for statement will be part of the loop"
   ]
  },
  {
   "cell_type": "markdown",
   "metadata": {},
   "source": [
    "#### Logic\n",
    "\n",
    "In programming it is often useful to test whether statements are True or False. To do this, Python has a number of logical operators. \n",
    "\n",
    "We can for example test whether a particular variable is greater than another one. The result of that operation should be either True (1) or False (0)."
   ]
  },
  {
   "cell_type": "code",
   "execution_count": 14,
   "metadata": {},
   "outputs": [
    {
     "name": "stdout",
     "output_type": "stream",
     "text": [
      "True\n",
      "False\n"
     ]
    }
   ],
   "source": [
    "low_num = 5\n",
    "high_num = 10\n",
    "\n",
    "result = high_num>low_num\n",
    "print(result)\n",
    "\n",
    "result = high_num<low_num\n",
    "print(result)"
   ]
  },
  {
   "cell_type": "markdown",
   "metadata": {},
   "source": [
    "Note that the type of the variable 'result' in the cell above is called a Boolean. It can take the value 1 or 0, which Python interprets as either true or false."
   ]
  },
  {
   "cell_type": "markdown",
   "metadata": {},
   "source": [
    "We can also test whether a variable is equal to a particular value using the '==' operator. Careful not to confuse this with the assignment operator '='"
   ]
  },
  {
   "cell_type": "code",
   "execution_count": 15,
   "metadata": {},
   "outputs": [
    {
     "name": "stdout",
     "output_type": "stream",
     "text": [
      "True\n"
     ]
    }
   ],
   "source": [
    "result = low_num == 5\n",
    "print(result)"
   ]
  },
  {
   "cell_type": "markdown",
   "metadata": {},
   "source": [
    "We can also logically combine several comparison statements. For example with the 'and' operator:"
   ]
  },
  {
   "cell_type": "code",
   "execution_count": 16,
   "metadata": {},
   "outputs": [
    {
     "name": "stdout",
     "output_type": "stream",
     "text": [
      "True\n",
      "False\n"
     ]
    }
   ],
   "source": [
    "result = (low_num == 5) and (high_num>low_num)\n",
    "print(result)\n",
    "\n",
    "result = (low_num == 5) and (high_num<low_num)\n",
    "print(result)"
   ]
  },
  {
   "cell_type": "markdown",
   "metadata": {},
   "source": [
    "#### if....else\n",
    "\n",
    "Earlier we saw logic statements that were either True or False. We now see how to do a certain operation if a condition is met, and another if it isn't."
   ]
  },
  {
   "cell_type": "code",
   "execution_count": 17,
   "metadata": {},
   "outputs": [
    {
     "name": "stdout",
     "output_type": "stream",
     "text": [
      "b is not greater than a\n"
     ]
    }
   ],
   "source": [
    "a = 33\n",
    "b = 33\n",
    "if b > a:\n",
    "    print(\"b is greater than a\")\n",
    "else:\n",
    "    print(\"b is not greater than a\")"
   ]
  },
  {
   "cell_type": "markdown",
   "metadata": {},
   "source": [
    "#### Exercise 2"
   ]
  },
  {
   "cell_type": "code",
   "execution_count": 18,
   "metadata": {},
   "outputs": [],
   "source": [
    "# 2(a) Use a `for loop` to sum all the elements in the following list:\n",
    "\n",
    "all_ages = [10,15,8,34,12]"
   ]
  },
  {
   "cell_type": "code",
   "execution_count": 19,
   "metadata": {},
   "outputs": [],
   "source": [
    "# 2(b) Modify this code such that only the even numbers are summed."
   ]
  },
  {
   "cell_type": "markdown",
   "metadata": {
    "toc-hr-collapsed": true
   },
   "source": [
    "### Basic programming 3: functions"
   ]
  },
  {
   "cell_type": "markdown",
   "metadata": {},
   "source": [
    "#### Functions"
   ]
  },
  {
   "cell_type": "markdown",
   "metadata": {},
   "source": [
    "A function is a block of code which only runs when it is called. You can pass data, known as parameters, into a function. A function can return data as a result."
   ]
  },
  {
   "cell_type": "code",
   "execution_count": 20,
   "metadata": {},
   "outputs": [
    {
     "name": "stdout",
     "output_type": "stream",
     "text": [
      "Emil Refsnes\n"
     ]
    }
   ],
   "source": [
    "# Function definition\n",
    "def print_name(first_name):\n",
    "    name = first_name + \" Refsnes\"\n",
    "    return name\n",
    "  \n",
    "# Main program\n",
    "my_name = print_name(\"Emil\") # Function call\n",
    "\n",
    "print(my_name)"
   ]
  },
  {
   "cell_type": "markdown",
   "metadata": {},
   "source": [
    "By default, a function must be called with the correct number of arguments. Meaning that if your function expects 2 arguments, you have to call the function with 2 arguments, not more, and not less."
   ]
  },
  {
   "cell_type": "markdown",
   "metadata": {},
   "source": [
    "#### Exercise 3"
   ]
  },
  {
   "cell_type": "code",
   "execution_count": 21,
   "metadata": {},
   "outputs": [],
   "source": [
    "# 3.(a) Modify the function 'print_name' above such that it takes 2 arguements: the first and last names, \n",
    "# and prints them together. "
   ]
  },
  {
   "cell_type": "code",
   "execution_count": 22,
   "metadata": {},
   "outputs": [],
   "source": [
    "# 3.(b) Create a function check_range(n,st,en) that returns TRUE if ‘n’ is in the range defined by ‘st’ and ‘en’. \n",
    "# and FALSE otherwise. "
   ]
  },
  {
   "cell_type": "code",
   "execution_count": 23,
   "metadata": {},
   "outputs": [],
   "source": [
    "# 3.(c) Optional. Learn about how to define a function when you don't know the exact number of arguments: \n",
    "# https://www.w3schools.com/python/python_functions.asp"
   ]
  },
  {
   "cell_type": "markdown",
   "metadata": {
    "toc-hr-collapsed": true
   },
   "source": [
    "### Basic programming 4: the `numpy` package\n"
   ]
  },
  {
   "cell_type": "markdown",
   "metadata": {},
   "source": [
    "#### `numpy` Arrays"
   ]
  },
  {
   "cell_type": "markdown",
   "metadata": {},
   "source": [
    "`numpy` is a powerful python package that is often used in scientific computing. More information about packages will be provided in Lecture 2.\n",
    "\n",
    "The main purpose of the Numpy package is to allow the creation and manipulation of arrays. A numpy array is a table of elements (usually numbers), all of the same type, indexed by integers. In Numpy, dimensions are called axes.\n"
   ]
  },
  {
   "cell_type": "markdown",
   "metadata": {},
   "source": [
    "#### Array creation\n",
    "\n",
    "There are several ways to create arrays.\n",
    "\n",
    "For example, you can create an array from a regular Python list or tuple using the array function. The type of the resulting array is deduced from the type of the elements in the sequences."
   ]
  },
  {
   "cell_type": "code",
   "execution_count": 24,
   "metadata": {},
   "outputs": [
    {
     "name": "stdout",
     "output_type": "stream",
     "text": [
      "[2 3 4]\n",
      "The type of a is:<class 'numpy.ndarray'>\n",
      "The type of the elements of a is:<class 'numpy.int64'>\n"
     ]
    }
   ],
   "source": [
    "import numpy as np # This line imports the numpy package with the name 'np'. This is a standard way of doing it.\n",
    "\n",
    "a = np.array([2,3,4])\n",
    "print(a)\n",
    "print('The type of a is:' + str(type(a))) # \n",
    "print('The type of the elements of a is:' + str(type(a[0]))) # "
   ]
  },
  {
   "cell_type": "markdown",
   "metadata": {},
   "source": [
    "Often, the elements of an array are originally unknown, but its size is known. Hence, NumPy offers several functions to create arrays with initial placeholder content. These minimize the necessity of growing arrays, which is an expensive operation."
   ]
  },
  {
   "cell_type": "code",
   "execution_count": 25,
   "metadata": {},
   "outputs": [
    {
     "name": "stdout",
     "output_type": "stream",
     "text": [
      "[[0. 0. 0. 0.]\n",
      " [0. 0. 0. 0.]\n",
      " [0. 0. 0. 0.]]\n"
     ]
    }
   ],
   "source": [
    "a = np.zeros( (3,4) )\n",
    "b = np.ones( (2,3,4), dtype=np.int16 ) # the element type can also be specified through (dtype)\n",
    "\n",
    "print(a)"
   ]
  },
  {
   "cell_type": "markdown",
   "metadata": {},
   "source": [
    "#### Element-wise operations\n",
    "\n",
    "Unlike in many matrix languages (e.g Matlab), the product operator * operates elementwise in NumPy arrays. The matrix product can be performed using the @ operator (in python >=3.5) or the dot function:"
   ]
  },
  {
   "cell_type": "code",
   "execution_count": 26,
   "metadata": {},
   "outputs": [
    {
     "name": "stdout",
     "output_type": "stream",
     "text": [
      "[[2 0]\n",
      " [3 4]]\n"
     ]
    }
   ],
   "source": [
    "A = np.array( [[1,1], [0,1]] )\n",
    "B = np.array( [[2,0], [3,4]] )\n",
    "\n",
    "print(B)"
   ]
  },
  {
   "cell_type": "code",
   "execution_count": 27,
   "metadata": {},
   "outputs": [
    {
     "name": "stdout",
     "output_type": "stream",
     "text": [
      "[[2 0]\n",
      " [0 4]]\n"
     ]
    }
   ],
   "source": [
    "C_el = A * B                       # elementwise product\n",
    "print(C_el)"
   ]
  },
  {
   "cell_type": "code",
   "execution_count": 31,
   "metadata": {},
   "outputs": [
    {
     "name": "stdout",
     "output_type": "stream",
     "text": [
      "[[5 4]\n",
      " [3 4]]\n"
     ]
    }
   ],
   "source": [
    "C_mat = np.dot(A,B) # matrix product\n",
    "print(C_mat)"
   ]
  },
  {
   "cell_type": "markdown",
   "metadata": {},
   "source": [
    "#### Built-in functions\n",
    "\n",
    "Numpy provides useful functions such as computing the sum of all the elements in the array."
   ]
  },
  {
   "cell_type": "code",
   "execution_count": 19,
   "metadata": {},
   "outputs": [
    {
     "name": "stdout",
     "output_type": "stream",
     "text": [
      "3\n"
     ]
    }
   ],
   "source": [
    "my_sum = np.sum(A)\n",
    "print(my_sum)"
   ]
  },
  {
   "cell_type": "markdown",
   "metadata": {},
   "source": [
    "By default, these operations apply to the array as though it were a list of numbers, regardless of its shape. However, by specifying the axis parameter you can apply an operation along the specified axis of an array:"
   ]
  },
  {
   "cell_type": "code",
   "execution_count": 20,
   "metadata": {},
   "outputs": [
    {
     "name": "stdout",
     "output_type": "stream",
     "text": [
      "[1 2]\n"
     ]
    }
   ],
   "source": [
    "my_sum = np.sum(A,axis=0)\n",
    "print(my_sum)"
   ]
  },
  {
   "cell_type": "markdown",
   "metadata": {},
   "source": [
    "#### Exercise 4"
   ]
  },
  {
   "cell_type": "code",
   "execution_count": 21,
   "metadata": {},
   "outputs": [],
   "source": [
    "# 4(a). Generate a 3x2 array of numbers of your choice using np.array . Check that the dimensions are right"
   ]
  },
  {
   "cell_type": "code",
   "execution_count": 22,
   "metadata": {},
   "outputs": [],
   "source": [
    "# 4(b). Write a program to get the values and indices \n",
    "# of the elements that are greater than 3 in your array (use a built-in numpy function). Google is your friend :)"
   ]
  },
  {
   "cell_type": "code",
   "execution_count": 23,
   "metadata": {},
   "outputs": [],
   "source": [
    "# 4(c). Write a program that creates a 6x1 dimension numpy array of zeros. Then fill that array with the sequence 1,2,3,4,5,6, \n",
    "# using a'for' loop. "
   ]
  },
  {
   "cell_type": "code",
   "execution_count": null,
   "metadata": {},
   "outputs": [],
   "source": []
  }
 ],
 "metadata": {
  "kernelspec": {
   "display_name": "Python 3",
   "language": "python",
   "name": "python3"
  },
  "language_info": {
   "codemirror_mode": {
    "name": "ipython",
    "version": 3
   },
   "file_extension": ".py",
   "mimetype": "text/x-python",
   "name": "python",
   "nbconvert_exporter": "python",
   "pygments_lexer": "ipython3",
   "version": "3.7.3"
  }
 },
 "nbformat": 4,
 "nbformat_minor": 4
}
