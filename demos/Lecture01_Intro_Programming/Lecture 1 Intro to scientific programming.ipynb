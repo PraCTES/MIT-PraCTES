{
 "cells": [
  {
   "cell_type": "markdown",
   "metadata": {},
   "source": [
    "# Lecture 1: Intro to scientific programming"
   ]
  },
  {
   "attachments": {},
   "cell_type": "markdown",
   "metadata": {},
   "source": [
    "## Basic programming 1:\n",
    "\n",
    "- Variables (declaration, assignment)\n",
    "- Datatypes (int, float)\n",
    "- Operations (add, subtract, multiply, divide)\n",
    "- Logic (boolean type)\n",
    "- For loops "
   ]
  },
  {
   "cell_type": "markdown",
   "metadata": {},
   "source": [
    "### Variables\n",
    "\n",
    "Think of a variable as a name attached to a particular object. In Python, variables need not be declared or defined in advance, as is the case in many other programming languages. To create a variable, you just assign it a value and then start using it. Assignment is done with a single equals sign (=):"
   ]
  },
  {
   "cell_type": "code",
   "execution_count": 78,
   "metadata": {},
   "outputs": [
    {
     "name": "stdout",
     "output_type": "stream",
     "text": [
      "300\n"
     ]
    }
   ],
   "source": [
    "n = 300\n",
    "print(n)"
   ]
  },
  {
   "cell_type": "markdown",
   "metadata": {},
   "source": [
    "Later, if you change the value of n and use it again, the new value will be substituted instead:"
   ]
  },
  {
   "cell_type": "code",
   "execution_count": 79,
   "metadata": {},
   "outputs": [
    {
     "name": "stdout",
     "output_type": "stream",
     "text": [
      "300\n",
      "1000\n"
     ]
    }
   ],
   "source": [
    "print(n)\n",
    "n = 1000\n",
    "print(n)"
   ]
  },
  {
   "cell_type": "markdown",
   "metadata": {},
   "source": [
    "### Data types\n",
    "\n",
    "Variables in Python (and other programming languages) have a data 'type'. The 3 most common data types are: integer, float and string. In Python, these types are defined as classes (more on this in the next Lecture). In order to find to which class the variable belongs to you can use type() function.\n",
    "\n",
    "Note that floats represent real numbers and are written with a decimal point dividing the integer and the fractional parts. Floats may also be in scientific notation, with E or e indicating the power of 10 (2.5e2 = 2.5 x 102 = 250)."
   ]
  },
  {
   "cell_type": "code",
   "execution_count": 80,
   "metadata": {},
   "outputs": [
    {
     "name": "stdout",
     "output_type": "stream",
     "text": [
      "<class 'int'>\n",
      "<class 'float'>\n",
      "<class 'str'>\n"
     ]
    }
   ],
   "source": [
    "# This line is commented: anything after the # symbol is not executed \n",
    "a = 5 \n",
    "print(type(a))\n",
    "\n",
    "b = 5.5\n",
    "print(type(b))\n",
    "\n",
    "c = 'Blabla'\n",
    "print(type(c))"
   ]
  },
  {
   "cell_type": "markdown",
   "metadata": {},
   "source": [
    "### Basic operations\n",
    "\n",
    "Python supports all of the math operations that you would expect. The basic ones are addition, subtraction, multiplication, and division. \n",
    "\n",
    "Note that the result of a division is always of type 'float', even if the two numbers divided are integers."
   ]
  },
  {
   "cell_type": "code",
   "execution_count": 81,
   "metadata": {},
   "outputs": [
    {
     "name": "stdout",
     "output_type": "stream",
     "text": [
      "<class 'int'>\n",
      "<class 'int'>\n",
      "<class 'float'>\n",
      "32\n",
      "1\n"
     ]
    }
   ],
   "source": [
    "# Division\n",
    "int_a = 6\n",
    "int_b = 3\n",
    "print(type(int_a))\n",
    "print(type(int_b))\n",
    "print(type(int_a/int_b))\n",
    "\n",
    "# Exponential\n",
    "print(2**5)\n",
    "\n",
    "# Modulo\n",
    "print(9%2)"
   ]
  },
  {
   "cell_type": "code",
   "execution_count": 82,
   "metadata": {},
   "outputs": [
    {
     "name": "stdout",
     "output_type": "stream",
     "text": [
      "blaBLA\n",
      "blablablablabla\n"
     ]
    }
   ],
   "source": [
    "my_string = 'bla'\n",
    "\n",
    "# String Cconcatenation\n",
    "print(my_string + 'BLA')\n",
    "\n",
    "# String repetition\n",
    "print(my_string*5)"
   ]
  },
  {
   "cell_type": "markdown",
   "metadata": {},
   "source": [
    "### Logic\n",
    "\n",
    "In programming it is often useful to test whether statements are true or false. To do this, Python has a number of logical operators. \n",
    "\n",
    "We can for example test whether a particular variable is greater than another one. The result of that operation should be either true (1) or false (0)."
   ]
  },
  {
   "cell_type": "code",
   "execution_count": 83,
   "metadata": {},
   "outputs": [
    {
     "name": "stdout",
     "output_type": "stream",
     "text": [
      "True\n",
      "False\n"
     ]
    }
   ],
   "source": [
    "low_num = 5\n",
    "high_num = 10\n",
    "\n",
    "result = high_num>low_num\n",
    "print(result)\n",
    "\n",
    "result = high_num<low_num\n",
    "print(result)"
   ]
  },
  {
   "cell_type": "markdown",
   "metadata": {},
   "source": [
    "Note that the type of the variable 'result' in the cell above is called a Boolean. It can take the value 0 or 1, which Python interprets as either true or false."
   ]
  },
  {
   "cell_type": "markdown",
   "metadata": {},
   "source": [
    "We can also test whether a variable is equal to a particular value using the '==' operator. Careful not to confuse this with the assignment operator '='"
   ]
  },
  {
   "cell_type": "code",
   "execution_count": 84,
   "metadata": {},
   "outputs": [
    {
     "name": "stdout",
     "output_type": "stream",
     "text": [
      "True\n"
     ]
    }
   ],
   "source": [
    "result = low_num == 5\n",
    "\n",
    "print(result)"
   ]
  },
  {
   "cell_type": "markdown",
   "metadata": {},
   "source": [
    "We can also logically combine several comparison statements. For example with the 'and' operator:"
   ]
  },
  {
   "cell_type": "code",
   "execution_count": 85,
   "metadata": {},
   "outputs": [
    {
     "name": "stdout",
     "output_type": "stream",
     "text": [
      "True\n",
      "False\n"
     ]
    }
   ],
   "source": [
    "result = (low_num == 5) and (high_num>low_num)\n",
    "print(result)\n",
    "\n",
    "result = (low_num == 5) and (high_num<low_num)\n",
    "print(result)"
   ]
  },
  {
   "cell_type": "markdown",
   "metadata": {},
   "source": [
    "### Lists\n",
    "\n",
    "In programming, it is often useful to collect certain variables together under the same name. Lists allow us to do that. A list is a collection of variables that is ordered and changeable. It allows duplicate members.\n",
    "\n",
    "For example, if we want to store the ages of 5 people, we could define 5 variables each with a single value. But that would be tedious. Instead we can create a list, with all the ages, as follows:"
   ]
  },
  {
   "cell_type": "code",
   "execution_count": 86,
   "metadata": {},
   "outputs": [
    {
     "name": "stdout",
     "output_type": "stream",
     "text": [
      "[10, 15, 8, 34, 12]\n",
      "<class 'list'>\n"
     ]
    }
   ],
   "source": [
    "all_ages = [10,15,8,34,12]\n",
    "\n",
    "print(all_ages)\n",
    "print(type(all_ages))"
   ]
  },
  {
   "cell_type": "markdown",
   "metadata": {},
   "source": [
    "One can then access members of the list with the syntax below.\n",
    "\n",
    "Note that indexing in Python starts at 0 and not at 1."
   ]
  },
  {
   "cell_type": "code",
   "execution_count": 87,
   "metadata": {},
   "outputs": [
    {
     "name": "stdout",
     "output_type": "stream",
     "text": [
      "10\n",
      "8\n",
      "12\n",
      "[15, 8]\n",
      "[10, 15, 8]\n",
      "[34, 12]\n"
     ]
    }
   ],
   "source": [
    "print(all_ages[0]) # first element\n",
    "print(all_ages[2]) # Element 2 (the third in the list)\n",
    "print(all_ages[-1]) # last element\n",
    "print(all_ages[1:3]) # Elements 1 to 3 (1 included, 3 excluded)\n",
    "print(all_ages[:3]) # Elements up to 3 (3 excluded)\n",
    "print(all_ages[3:]) # Elements from 3 onwards (3 included)"
   ]
  },
  {
   "cell_type": "markdown",
   "metadata": {},
   "source": [
    "### For loops\n",
    "\n",
    "We often need to do the same operation many times. 'For' loops allow us to just that."
   ]
  },
  {
   "cell_type": "code",
   "execution_count": 88,
   "metadata": {},
   "outputs": [
    {
     "name": "stdout",
     "output_type": "stream",
     "text": [
      "apple\n",
      "banana\n",
      "cherry\n"
     ]
    }
   ],
   "source": [
    "fruits = [\"apple\", \"banana\", \"cherry\"]\n",
    "for x in fruits:\n",
    "  print(x)"
   ]
  },
  {
   "cell_type": "markdown",
   "metadata": {},
   "source": [
    "Note that indentation is important in Python! Anything indented after the for statement will be part of the loop"
   ]
  },
  {
   "cell_type": "markdown",
   "metadata": {},
   "source": [
    "### if....else\n",
    "\n",
    "Earlier we saw logic statements that were either True or False. We now see how to do a certain operation if a condition is met, and another if it isn't."
   ]
  },
  {
   "cell_type": "code",
   "execution_count": 89,
   "metadata": {},
   "outputs": [
    {
     "name": "stdout",
     "output_type": "stream",
     "text": [
      "a and b are equal\n"
     ]
    }
   ],
   "source": [
    "a = 33\n",
    "b = 33\n",
    "if b > a:\n",
    "  print(\"b is greater than a\")\n",
    "elif a == b: # Note the double equal sign!\n",
    "  print(\"a and b are equal\")"
   ]
  },
  {
   "cell_type": "markdown",
   "metadata": {},
   "source": [
    "### Exercise 1\n",
    "\n",
    "(Complete each part in the relevant cell)"
   ]
  },
  {
   "cell_type": "code",
   "execution_count": 90,
   "metadata": {},
   "outputs": [],
   "source": [
    "# 1(a) Use a for loop to sum all the elements in the following list:\n",
    "\n",
    "all_ages = [10,15,8,34,12]"
   ]
  },
  {
   "cell_type": "code",
   "execution_count": 91,
   "metadata": {},
   "outputs": [],
   "source": [
    "# 1(b) Create a for loop that prints the first 20 numbers in the fibonacci sequence (1,1,2,3,5,8,...)\\\n",
    "# Hint: use the function range to create a list of 20 evenly spaced numbers "
   ]
  },
  {
   "cell_type": "code",
   "execution_count": 92,
   "metadata": {},
   "outputs": [],
   "source": [
    "# 1(c) Modify this code such that only the even numbers of the sequence are printed."
   ]
  },
  {
   "cell_type": "markdown",
   "metadata": {},
   "source": [
    "## Basic programming 2:\n",
    "\n",
    "- Functions"
   ]
  },
  {
   "cell_type": "markdown",
   "metadata": {},
   "source": [
    "A function is a block of code which only runs when it is called. You can pass data, known as parameters, into a function. A function can return data as a result."
   ]
  },
  {
   "cell_type": "code",
   "execution_count": 93,
   "metadata": {},
   "outputs": [
    {
     "name": "stdout",
     "output_type": "stream",
     "text": [
      "Emil Refsnes\n"
     ]
    }
   ],
   "source": [
    "# Function definition\n",
    "def my_function(first_name):\n",
    "    name = first_name + \" Refsnes\"\n",
    "    return name\n",
    "  \n",
    "# Main program\n",
    "my_name = my_function(\"Emil\") # Function call\n",
    "\n",
    "print(my_name)"
   ]
  },
  {
   "cell_type": "markdown",
   "metadata": {},
   "source": [
    "By default, a function must be called with the correct number of arguments. Meaning that if your function expects 2 arguments, you have to call the function with 2 arguments, not more, and not less."
   ]
  },
  {
   "cell_type": "markdown",
   "metadata": {},
   "source": [
    "### Exercise 2"
   ]
  },
  {
   "cell_type": "code",
   "execution_count": 94,
   "metadata": {},
   "outputs": [],
   "source": [
    "# 2.(a) Create a function check_range(n,st,en) that returns TRUE if ‘n’ is in the range defined by ‘st’ and ‘en’. \n",
    "# and FALSE otherwise. "
   ]
  },
  {
   "cell_type": "code",
   "execution_count": 95,
   "metadata": {},
   "outputs": [],
   "source": [
    "# 2. (b) Optional. Learn about how to define a function when you don't know the exact number of arguments: \n",
    "# https://www.w3schools.com/python/python_functions.asp"
   ]
  },
  {
   "cell_type": "markdown",
   "metadata": {},
   "source": [
    "## Basic programming 3:\n",
    "\n",
    "- Numpy arrays"
   ]
  },
  {
   "cell_type": "markdown",
   "metadata": {},
   "source": [
    "Numpy is a powerful python package that is often used in scientific computing. More information about packages will be provided in Lecture 2.\n",
    "\n",
    "The main purpose of the Numpy package is to allow the creation and manipulation of arrays. A numpy array is a table of elements (usually numbers), all of the same type, indexed by integers. In Numpy, dimensions are called axes.\n"
   ]
  },
  {
   "cell_type": "markdown",
   "metadata": {},
   "source": [
    "### Array creation\n",
    "\n",
    "There are several ways to create arrays.\n",
    "\n",
    "For example, you can create an array from a regular Python list or tuple using the array function. The type of the resulting array is deduced from the type of the elements in the sequences."
   ]
  },
  {
   "cell_type": "code",
   "execution_count": 96,
   "metadata": {},
   "outputs": [
    {
     "name": "stdout",
     "output_type": "stream",
     "text": [
      "[2 3 4]\n",
      "The type of a is:<class 'numpy.ndarray'>\n",
      "The type of the elements of a is:<class 'numpy.int64'>\n"
     ]
    }
   ],
   "source": [
    "import numpy as np # This line imports the numpy package with the name 'np'. This is a standard way of doing it.\n",
    "\n",
    "a = np.array([2,3,4])\n",
    "print(a)\n",
    "print('The type of a is:' + str(type(a))) # \n",
    "print('The type of the elements of a is:' + str(type(a[0]))) # "
   ]
  },
  {
   "cell_type": "markdown",
   "metadata": {},
   "source": [
    "Often, the elements of an array are originally unknown, but its size is known. Hence, NumPy offers several functions to create arrays with initial placeholder content. These minimize the necessity of growing arrays, which is an expensive operation."
   ]
  },
  {
   "cell_type": "code",
   "execution_count": 97,
   "metadata": {},
   "outputs": [
    {
     "name": "stdout",
     "output_type": "stream",
     "text": [
      "[[0. 0. 0. 0.]\n",
      " [0. 0. 0. 0.]\n",
      " [0. 0. 0. 0.]]\n"
     ]
    }
   ],
   "source": [
    "a = np.zeros( (3,4) )\n",
    "b = np.ones( (2,3,4), dtype=np.int16 ) # the element type can also be specified through (dtype)\n",
    "\n",
    "print(a)"
   ]
  },
  {
   "cell_type": "markdown",
   "metadata": {},
   "source": [
    "### Element-wise operations\n",
    "\n",
    "Unlike in many matrix languages (e.g Matlab), the product operator * operates elementwise in NumPy arrays. The matrix product can be performed using the @ operator (in python >=3.5) or the dot function or method:"
   ]
  },
  {
   "cell_type": "code",
   "execution_count": 98,
   "metadata": {},
   "outputs": [
    {
     "name": "stdout",
     "output_type": "stream",
     "text": [
      "[[2 0]\n",
      " [3 4]]\n"
     ]
    }
   ],
   "source": [
    "A = np.array( [[1,1], [0,1]] )\n",
    "B = np.array( [[2,0], [3,4]] )\n",
    "\n",
    "print(B)"
   ]
  },
  {
   "cell_type": "code",
   "execution_count": 99,
   "metadata": {},
   "outputs": [
    {
     "name": "stdout",
     "output_type": "stream",
     "text": [
      "[[2 0]\n",
      " [0 4]]\n"
     ]
    }
   ],
   "source": [
    "C_el = A * B                       # elementwise product\n",
    "print(C_el)"
   ]
  },
  {
   "cell_type": "code",
   "execution_count": 100,
   "metadata": {},
   "outputs": [
    {
     "name": "stdout",
     "output_type": "stream",
     "text": [
      "[[5 4]\n",
      " [3 4]]\n"
     ]
    }
   ],
   "source": [
    "C_mat = A.dot(B)                    # matrix product\n",
    "print(C_mat)"
   ]
  },
  {
   "cell_type": "markdown",
   "metadata": {},
   "source": [
    "### Built-in methods\n",
    "\n",
    "Numpy provides useful operations (methods) such as computing the sum of all the elements in the array."
   ]
  },
  {
   "cell_type": "code",
   "execution_count": 101,
   "metadata": {},
   "outputs": [
    {
     "name": "stdout",
     "output_type": "stream",
     "text": [
      "3\n"
     ]
    }
   ],
   "source": [
    "my_sum = np.sum(A)\n",
    "print(my_sum)"
   ]
  },
  {
   "cell_type": "markdown",
   "metadata": {},
   "source": [
    "By default, these operations apply to the array as though it were a list of numbers, regardless of its shape. However, by specifying the axis parameter you can apply an operation along the specified axis of an array:"
   ]
  },
  {
   "cell_type": "code",
   "execution_count": 102,
   "metadata": {},
   "outputs": [
    {
     "name": "stdout",
     "output_type": "stream",
     "text": [
      "[1 2]\n"
     ]
    }
   ],
   "source": [
    "my_sum = np.sum(A,axis=0)\n",
    "print(my_sum)"
   ]
  },
  {
   "cell_type": "markdown",
   "metadata": {},
   "source": [
    "### Exercise 3"
   ]
  },
  {
   "cell_type": "code",
   "execution_count": 103,
   "metadata": {},
   "outputs": [],
   "source": [
    "# 3(a). Generate a 3x2 array of numbers of your choice using np.array . Check that the dimensions are right"
   ]
  },
  {
   "cell_type": "code",
   "execution_count": 104,
   "metadata": {},
   "outputs": [],
   "source": [
    "# 3(b). Write a program to get the values and indices \n",
    "# of the elements that are bigger than 3 in your array (use a built-in numpy method). Google is your friend :)"
   ]
  }
 ],
 "metadata": {
  "kernelspec": {
   "display_name": "Python 3",
   "language": "python",
   "name": "python3"
  },
  "language_info": {
   "codemirror_mode": {
    "name": "ipython",
    "version": 3
   },
   "file_extension": ".py",
   "mimetype": "text/x-python",
   "name": "python",
   "nbconvert_exporter": "python",
   "pygments_lexer": "ipython3",
   "version": "3.7.4"
  }
 },
 "nbformat": 4,
 "nbformat_minor": 2
}
