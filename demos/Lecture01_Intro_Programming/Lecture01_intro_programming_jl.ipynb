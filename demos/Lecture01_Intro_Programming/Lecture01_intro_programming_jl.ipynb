{
 "cells": [
  {
   "cell_type": "markdown",
   "metadata": {},
   "source": [
    "## Lecture 1: Intro to scientific programming (Julia version)\n",
    "\n",
    "### MIT Practical Computing Tutorials for Earth Scientists\n",
    "<hr>"
   ]
  },
  {
   "cell_type": "markdown",
   "metadata": {},
   "source": [
    "#### Note: Before starting, make sure you are in an activate Julia (version > 1.2.0) kernel (top right corner of the notebook) or click to swap to a Julia kernel. Alternatively, you can click on the `Kernel` tab in the menu and select `Change Kernel...`"
   ]
  },
  {
   "cell_type": "markdown",
   "metadata": {
    "toc-hr-collapsed": true
   },
   "source": [
    "### Basic programming 1: variables, types, operations, and lists\n",
    "\n",
    "- Variables (declaration, assignment)\n",
    "- Datatypes (int, float)\n",
    "- Operations (add, subtract, multiply, divide)\n",
    "- Lists"
   ]
  },
  {
   "cell_type": "markdown",
   "metadata": {},
   "source": [
    "#### Variables\n",
    "\n",
    "Think of a variable as a name attached to a particular object.\n",
    "\n",
    "#### Note: In Julia, variables (and their types) do not NEED to be declared or defined in advance, as is the case in many other programming languages (e.g. Fortran), but declaring [variable types](https://docs.julialang.org/en/v1/manual/types/) can dramatically improve performance / speed and is key to getting Julia code to look like an interpreted language like Python but run as fast (or nearly as fast) as a compiled language like Fortran (see a list of other [tips to improve performance here](https://docs.julialang.org/en/v1/manual/performance-tips/)). For the purposes of this introductory tutorial, however, we will sacrifice performance to simplify things as much as possible. The [Lecture07 demo](https://github.com/thabbott/PRACTES_HPC) shows how assigning variable types (and compiling to machine code) can make julia code go from being as slow as Python to as fast as C.\n",
    "\n",
    "To create a variable, you just assign it a value and then start using it. Assignment is done with a single equals sign (=):"
   ]
  },
  {
   "cell_type": "code",
   "execution_count": 1,
   "metadata": {},
   "outputs": [
    {
     "name": "stdout",
     "output_type": "stream",
     "text": [
      "300"
     ]
    }
   ],
   "source": [
    "n = 300\n",
    "print(n)"
   ]
  },
  {
   "cell_type": "markdown",
   "metadata": {},
   "source": [
    "Later, if you change the value of n and use it again, the new value will be substituted instead:"
   ]
  },
  {
   "cell_type": "code",
   "execution_count": 2,
   "metadata": {},
   "outputs": [
    {
     "name": "stdout",
     "output_type": "stream",
     "text": [
      "3001000"
     ]
    }
   ],
   "source": [
    "print(n) # in julia, print() does not automatically end with a `newline` character\n",
    "n = 1000\n",
    "print(n)"
   ]
  },
  {
   "cell_type": "markdown",
   "metadata": {},
   "source": [
    "Note: in Julia, `print()` does not automatically end with a new-line character ('\\n'), as in Python's `print()` or Matlab's `disp()`. The `println()` function however does include a newline statement."
   ]
  },
  {
   "cell_type": "markdown",
   "metadata": {},
   "source": [
    "#### Data types\n",
    "\n",
    "Variables in Julia (and other programming languages) have a data 'type'. The 3 most common data types are: Int64 (64-bit integers), Float64 (64-bit floating point numbers) and String (a string of characters). In Julia, these types are defined as classes (more on this in the next Lecture). In order to find to which class the variable belongs to you can use type() function.\n",
    "\n",
    "Note that floats represent real numbers and are written with a decimal point dividing the integer and the fractional parts. Floats may also be in scientific notation, with E or e indicating the power of 10 (2.5e2 = 2.5 x 102 = 250)."
   ]
  },
  {
   "cell_type": "code",
   "execution_count": 3,
   "metadata": {},
   "outputs": [
    {
     "name": "stdout",
     "output_type": "stream",
     "text": [
      "Int64\n",
      "Float64\n",
      "String\n"
     ]
    }
   ],
   "source": [
    "# This line is commented: anything after the # symbol is not executed \n",
    "a = 5 \n",
    "println(typeof(a))\n",
    "\n",
    "b = 5.5\n",
    "println(typeof(b))\n",
    "\n",
    "c = \"Blabla\"\n",
    "println(typeof(c))"
   ]
  },
  {
   "cell_type": "markdown",
   "metadata": {},
   "source": [
    "Note: Strings in Julia must be specified with the `\"` character, not the `'` character:"
   ]
  },
  {
   "cell_type": "code",
   "execution_count": 4,
   "metadata": {},
   "outputs": [
    {
     "ename": "LoadError",
     "evalue": "syntax: invalid character literal",
     "output_type": "error",
     "traceback": [
      "syntax: invalid character literal",
      ""
     ]
    }
   ],
   "source": [
    "c = 'Blabla'"
   ]
  },
  {
   "cell_type": "markdown",
   "metadata": {},
   "source": [
    "Note: In Julia (and in Python>=3.0), all unicode characters are valid string characters. This means that greek letters and other mathematical symbols are valid! To generate a unicode character, use latex-like syntax: type a backslash followed by the symbol's name, such as `\\rho`, followed by the `Tab` key."
   ]
  },
  {
   "cell_type": "code",
   "execution_count": 5,
   "metadata": {},
   "outputs": [
    {
     "data": {
      "text/plain": [
       "3.0"
      ]
     },
     "execution_count": 5,
     "metadata": {},
     "output_type": "execute_result"
    }
   ],
   "source": [
    "ρ = 1. # \\rho + Tab\n",
    "ζ = 2. # \\zeta + Tab\n",
    "∑ = ρ + ζ # \\sum + Tab\n",
    "\n",
    "# By default, Ijulia notebooks print the value of the variable(s) in the last line of the cell (unless you supress it with a semicolon)"
   ]
  },
  {
   "cell_type": "markdown",
   "metadata": {},
   "source": [
    "#### Basic operations\n",
    "\n",
    "Julia supports all of the math operations that you would expect. The basic ones are addition, subtraction, multiplication, and division. \n",
    "\n",
    "Note that the result of a division is always of type 'Float64', even if the two numbers divided are Int64."
   ]
  },
  {
   "cell_type": "code",
   "execution_count": 6,
   "metadata": {},
   "outputs": [
    {
     "name": "stdout",
     "output_type": "stream",
     "text": [
      "Int64\n",
      "Int64\n",
      "Float64\n",
      "32\n",
      "1\n"
     ]
    }
   ],
   "source": [
    "# Division\n",
    "int_a = 6\n",
    "int_b = 3\n",
    "println(typeof(int_a))\n",
    "println(typeof(int_b))\n",
    "println(typeof(int_a/int_b))\n",
    "\n",
    "# Exponential\n",
    "println(2^5)\n",
    "\n",
    "# Modulo\n",
    "println(9%2)"
   ]
  },
  {
   "cell_type": "code",
   "execution_count": 7,
   "metadata": {},
   "outputs": [
    {
     "name": "stdout",
     "output_type": "stream",
     "text": [
      "blaBLA\n"
     ]
    }
   ],
   "source": [
    "my_string = \"bla\"\n",
    "\n",
    "# String Cconcatenation\n",
    "println(string(my_string, \"BLA\"))"
   ]
  },
  {
   "cell_type": "markdown",
   "metadata": {},
   "source": [
    "#### Lists\n",
    "\n",
    "In programming, it is often useful to collect certain variables together under the same name. Lists allow us to do that. A list is a collection of variables that is ordered and changeable. It allows duplicate members.\n",
    "\n",
    "For example, if we want to store the ages of 5 people, we could define 5 variables each with a single value. But that would be tedious. Instead we can create a list, with all the ages, as follows:"
   ]
  },
  {
   "cell_type": "code",
   "execution_count": 8,
   "metadata": {},
   "outputs": [
    {
     "name": "stdout",
     "output_type": "stream",
     "text": [
      "[10, 15, 8, 34, 12]\n",
      "Array{Int64,1}\n"
     ]
    }
   ],
   "source": [
    "all_ages = [10,15,8,34,12]\n",
    "\n",
    "println(all_ages)\n",
    "println(typeof(all_ages))"
   ]
  },
  {
   "cell_type": "markdown",
   "metadata": {},
   "source": [
    "One can then access members of the list with the syntax below.\n",
    "Note that indexing in Julia starts at 1 (like Matlab) and not at 0 (like Python)."
   ]
  },
  {
   "cell_type": "code",
   "execution_count": 9,
   "metadata": {},
   "outputs": [
    {
     "name": "stdout",
     "output_type": "stream",
     "text": [
      "10\n",
      "8\n",
      "12\n",
      "[15, 8]\n",
      "[10, 15, 8]\n",
      "[34, 12]\n"
     ]
    }
   ],
   "source": [
    "println(all_ages[1]) # first element\n",
    "println(all_ages[3]) # Element 3 (the third in the list)\n",
    "println(all_ages[end]) # last element\n",
    "println(all_ages[2:3]) # Elements 2 to 3 (2 included, 3 included)\n",
    "println(all_ages[1:3]) # Elements up to 3 (3 included)\n",
    "println(all_ages[4:end]) # Elements from 4 onwards (4 included)"
   ]
  },
  {
   "cell_type": "markdown",
   "metadata": {
    "toc-hr-collapsed": false
   },
   "source": [
    "#### Exercise 1"
   ]
  },
  {
   "cell_type": "code",
   "execution_count": 10,
   "metadata": {},
   "outputs": [],
   "source": [
    "# 1(a) Make a list called my_list, which contains 2 Int64, 2 Float64 and 1 String. \n",
    "# Print the list.\n",
    "# Print the type of the 4th element."
   ]
  },
  {
   "cell_type": "code",
   "execution_count": 11,
   "metadata": {},
   "outputs": [],
   "source": [
    "# 1(b) Make a new list called 'new_list' that contains all the elments of 'my_list' except the first 2 (use slicing)."
   ]
  },
  {
   "cell_type": "code",
   "execution_count": 12,
   "metadata": {},
   "outputs": [
    {
     "ename": "MethodError",
     "evalue": "MethodError: no method matching +(::String, ::Int64)\nClosest candidates are:\n  +(::Any, ::Any, !Matched::Any, !Matched::Any...) at operators.jl:529\n  +(!Matched::Complex{Bool}, ::Real) at complex.jl:293\n  +(!Matched::Missing, ::Number) at missing.jl:94\n  ...",
     "output_type": "error",
     "traceback": [
      "MethodError: no method matching +(::String, ::Int64)\nClosest candidates are:\n  +(::Any, ::Any, !Matched::Any, !Matched::Any...) at operators.jl:529\n  +(!Matched::Complex{Bool}, ::Real) at complex.jl:293\n  +(!Matched::Missing, ::Number) at missing.jl:94\n  ...",
      "",
      "Stacktrace:",
      " [1] top-level scope at In[12]:1"
     ]
    }
   ],
   "source": [
    "# 1(c) Debug the following code:\n",
    "\n",
    "my_name = \"R2D\" + 2\n",
    "print(my_name)\n",
    "\n",
    "# Hint: Google the function 'string()'"
   ]
  },
  {
   "cell_type": "markdown",
   "metadata": {
    "toc-hr-collapsed": true
   },
   "source": [
    "### Basic programming 2: loops, Boolean logic, and conditions"
   ]
  },
  {
   "cell_type": "markdown",
   "metadata": {},
   "source": [
    "#### For loops\n",
    "\n",
    "We often need to do the same operation many times. 'For' loops allow us to just that."
   ]
  },
  {
   "cell_type": "code",
   "execution_count": 13,
   "metadata": {},
   "outputs": [
    {
     "name": "stdout",
     "output_type": "stream",
     "text": [
      "apple\n",
      "banana\n",
      "cherry\n"
     ]
    }
   ],
   "source": [
    "fruits = [\"apple\", \"banana\", \"cherry\"]\n",
    "for x in fruits\n",
    "    println(x)\n",
    "end"
   ]
  },
  {
   "cell_type": "markdown",
   "metadata": {},
   "source": [
    "Note that the name of the variable x doesn't matter. We could also write: \n",
    "```julia\n",
    "for fruit in fruits\n",
    "    println(fruit)\n",
    "end\n",
    "```"
   ]
  },
  {
   "cell_type": "markdown",
   "metadata": {},
   "source": [
    "Note that the 'for loop' syntax requires both a beginning (with `for`) and an `end` statement to finish it. Indenting the contents of the loop is recommended but optional."
   ]
  },
  {
   "cell_type": "markdown",
   "metadata": {},
   "source": [
    "#### Logic\n",
    "\n",
    "In programming it is often useful to test whether statements are true or false. To do this, Julia has a number of logical operators. \n",
    "\n",
    "We can for example test whether a particular variable is greater than another one. The result of that operation should be either true (1) or false (0)."
   ]
  },
  {
   "cell_type": "code",
   "execution_count": 14,
   "metadata": {},
   "outputs": [
    {
     "name": "stdout",
     "output_type": "stream",
     "text": [
      "true\n",
      "false\n"
     ]
    }
   ],
   "source": [
    "low_num = 5\n",
    "high_num = 10\n",
    "\n",
    "result = high_num>low_num\n",
    "println(result)\n",
    "\n",
    "result = high_num<low_num\n",
    "println(result)"
   ]
  },
  {
   "cell_type": "markdown",
   "metadata": {},
   "source": [
    "Note that the type of the variable 'result' in the cell above is called a `Bool`."
   ]
  },
  {
   "cell_type": "code",
   "execution_count": 15,
   "metadata": {},
   "outputs": [
    {
     "name": "stdout",
     "output_type": "stream",
     "text": [
      "Bool\n"
     ]
    }
   ],
   "source": [
    "println(typeof(result))"
   ]
  },
  {
   "cell_type": "markdown",
   "metadata": {},
   "source": [
    "We can also test whether a variable is equal to a particular value using the '==' operator. Careful not to confuse this with the assignment operator '='"
   ]
  },
  {
   "cell_type": "code",
   "execution_count": 16,
   "metadata": {},
   "outputs": [
    {
     "name": "stdout",
     "output_type": "stream",
     "text": [
      "true"
     ]
    }
   ],
   "source": [
    "result = low_num == 5\n",
    "print(result)"
   ]
  },
  {
   "cell_type": "markdown",
   "metadata": {},
   "source": [
    "We can also logically combine several comparison statements. For example with the 'and' operator:"
   ]
  },
  {
   "cell_type": "code",
   "execution_count": 17,
   "metadata": {},
   "outputs": [
    {
     "name": "stdout",
     "output_type": "stream",
     "text": [
      "true\n",
      "false\n"
     ]
    }
   ],
   "source": [
    "result = (low_num == 5) & (high_num>low_num)\n",
    "println(result)\n",
    "\n",
    "result = (low_num == 5) & (high_num<low_num)\n",
    "println(result)"
   ]
  },
  {
   "cell_type": "markdown",
   "metadata": {},
   "source": [
    "#### if....else\n",
    "\n",
    "Earlier we saw logic statements that were either True or False. We now see how to do a certain operation if a condition is met, and another if it isn't."
   ]
  },
  {
   "cell_type": "code",
   "execution_count": 18,
   "metadata": {},
   "outputs": [
    {
     "name": "stdout",
     "output_type": "stream",
     "text": [
      "b is not greater than a"
     ]
    }
   ],
   "source": [
    "a = 33\n",
    "b = 33\n",
    "if b > a\n",
    "    print(\"b is greater than a\")\n",
    "else\n",
    "    print(\"b is not greater than a\")\n",
    "end"
   ]
  },
  {
   "cell_type": "markdown",
   "metadata": {},
   "source": [
    "#### Exercise 2"
   ]
  },
  {
   "cell_type": "code",
   "execution_count": 19,
   "metadata": {},
   "outputs": [
    {
     "data": {
      "text/plain": [
       "5-element Array{Int64,1}:\n",
       " 10\n",
       " 15\n",
       "  8\n",
       " 34\n",
       " 12"
      ]
     },
     "execution_count": 19,
     "metadata": {},
     "output_type": "execute_result"
    }
   ],
   "source": [
    "# 2(a) Use a `for loop` to sum all the elements in the following list / Array of Int64 types:\n",
    "\n",
    "all_ages = [10,15,8,34,12]"
   ]
  },
  {
   "cell_type": "code",
   "execution_count": 20,
   "metadata": {},
   "outputs": [],
   "source": [
    "# 2(b) Modify this code such that only the even numbers are summed."
   ]
  },
  {
   "cell_type": "markdown",
   "metadata": {
    "toc-hr-collapsed": true
   },
   "source": [
    "### Basic programming 3: functions"
   ]
  },
  {
   "cell_type": "markdown",
   "metadata": {},
   "source": [
    "#### Functions"
   ]
  },
  {
   "cell_type": "markdown",
   "metadata": {},
   "source": [
    "A function is a block of code which only runs when it is called. You can pass data, known as parameters, into a function. A function can return data as a result.\n",
    "\n",
    "##### Note: In Julia, function arguments can be assigned types to 1) improve performance, 2) improve reliability, and 3) allow different functional forms for different input types (each functional form is called a [method](https://docs.julialang.org/en/v1/manual/methods/) of the [function](https://docs.julialang.org/en/v1/manual/functions/))! The argument's type is assigned by the `::` operator, e.g. `first_name::String` below."
   ]
  },
  {
   "cell_type": "code",
   "execution_count": 21,
   "metadata": {},
   "outputs": [
    {
     "name": "stdout",
     "output_type": "stream",
     "text": [
      "Emil Refsnes"
     ]
    }
   ],
   "source": [
    "# Function definition\n",
    "function print_name(first_name::String)\n",
    "    name = string(first_name, \" Refsnes\")\n",
    "    return name\n",
    "end\n",
    "\n",
    "# Main program\n",
    "my_name = print_name(\"Emil\") # Function call\n",
    "\n",
    "print(my_name)"
   ]
  },
  {
   "cell_type": "markdown",
   "metadata": {},
   "source": [
    "By default, a function must be called with the correct number of arguments. Meaning that if your function expects 2 arguments, you have to call the function with 2 arguments, not more, and not less."
   ]
  },
  {
   "cell_type": "markdown",
   "metadata": {},
   "source": [
    "#### Exercise 3"
   ]
  },
  {
   "cell_type": "code",
   "execution_count": 22,
   "metadata": {},
   "outputs": [],
   "source": [
    "# 3.(a) Modify the function 'print_name' above such that it takes 2 arguements: the first and last names, \n",
    "# and prints them together. "
   ]
  },
  {
   "cell_type": "code",
   "execution_count": 23,
   "metadata": {},
   "outputs": [],
   "source": [
    "# 3.(b) Create a function check_range(n,st,en) that returns true if ‘n’ is in the range defined by ‘st’ and ‘en’. \n",
    "# and false otherwise. "
   ]
  },
  {
   "cell_type": "code",
   "execution_count": 24,
   "metadata": {},
   "outputs": [],
   "source": [
    "# 3.(c) Optional. Learn about how to define a function when you don't know the exact number of arguments: \n",
    "# https://docs.julialang.org/en/v1/manual/functions/#Keyword-Arguments-1"
   ]
  },
  {
   "cell_type": "markdown",
   "metadata": {
    "toc-hr-collapsed": true
   },
   "source": [
    "### Basic programming 4: julia Arrays\n"
   ]
  },
  {
   "cell_type": "markdown",
   "metadata": {},
   "source": [
    "#### Arrays"
   ]
  },
  {
   "cell_type": "markdown",
   "metadata": {},
   "source": [
    "Arrays are N-dimensional (finite) representations of values, such as Int64 or Float64 types. A four-dimensional (N=4) array named `T`, for example, might represent the observed temperature of the atmosphere at $N_{x} = 360$ longitude points, $N_{y} = 180$ latitude points, $N_{p} = 50$ pressures, and $N_{t} = 12$ months. The dimensions of this array would be `size(T)` $= (N_{x} N_{y}, N_{p}, N_{t})$ and the values would be Float64. The type of the array would be `Array{Float64,4}`."
   ]
  },
  {
   "cell_type": "markdown",
   "metadata": {},
   "source": [
    "#### Array creation\n",
    "\n",
    "There are several ways to create arrays.\n",
    "\n",
    "By default, all julia lists are in fact 1-dimensional Arrays."
   ]
  },
  {
   "cell_type": "code",
   "execution_count": 25,
   "metadata": {},
   "outputs": [
    {
     "name": "stdout",
     "output_type": "stream",
     "text": [
      "[2, 3, 4]\n",
      "The type of a is: Array{Int64,1}\n",
      "The type of the elements of a is: Int64\n"
     ]
    }
   ],
   "source": [
    "a = [2,3,4]\n",
    "println(a)\n",
    "println(\"The type of a is: \", typeof(a)) # \n",
    "println(\"The type of the elements of a is: \", typeof(a[1])) # "
   ]
  },
  {
   "cell_type": "markdown",
   "metadata": {},
   "source": [
    "Often, the elements of an array are originally unknown, but its size is known. Hence, Julia offers several functions to create arrays with initial placeholder content. These minimize the necessity of growing arrays, which is an expensive operation."
   ]
  },
  {
   "cell_type": "code",
   "execution_count": 26,
   "metadata": {},
   "outputs": [
    {
     "data": {
      "text/plain": [
       "3×4 Array{Float64,2}:\n",
       " 0.0  0.0  0.0  0.0\n",
       " 0.0  0.0  0.0  0.0\n",
       " 0.0  0.0  0.0  0.0"
      ]
     },
     "execution_count": 26,
     "metadata": {},
     "output_type": "execute_result"
    }
   ],
   "source": [
    "a = zeros(3,4)\n",
    "b = ones(2,3,4)\n",
    "\n",
    "a"
   ]
  },
  {
   "cell_type": "markdown",
   "metadata": {},
   "source": [
    "#### Element-wise operations"
   ]
  },
  {
   "cell_type": "code",
   "execution_count": 27,
   "metadata": {},
   "outputs": [
    {
     "data": {
      "text/plain": [
       "2×2 Array{Float64,2}:\n",
       " 1.0  1.0\n",
       " 0.0  1.0"
      ]
     },
     "execution_count": 27,
     "metadata": {},
     "output_type": "execute_result"
    }
   ],
   "source": [
    "A = Array([1. 1.; 0. 1.])"
   ]
  },
  {
   "cell_type": "code",
   "execution_count": 28,
   "metadata": {},
   "outputs": [
    {
     "data": {
      "text/plain": [
       "2×2 Array{Float64,2}:\n",
       " 2.0  0.0\n",
       " 3.0  4.0"
      ]
     },
     "execution_count": 28,
     "metadata": {},
     "output_type": "execute_result"
    }
   ],
   "source": [
    "B = Array([2. 0.; 3. 4.])"
   ]
  },
  {
   "cell_type": "code",
   "execution_count": 29,
   "metadata": {},
   "outputs": [
    {
     "data": {
      "text/plain": [
       "2×2 Array{Float64,2}:\n",
       " 2.0  0.0\n",
       " 0.0  4.0"
      ]
     },
     "execution_count": 29,
     "metadata": {},
     "output_type": "execute_result"
    }
   ],
   "source": [
    "C_el = A .* B # elementwise product"
   ]
  },
  {
   "cell_type": "code",
   "execution_count": 30,
   "metadata": {},
   "outputs": [
    {
     "data": {
      "text/plain": [
       "2×2 Array{Float64,2}:\n",
       " 5.0  4.0\n",
       " 3.0  4.0"
      ]
     },
     "execution_count": 30,
     "metadata": {},
     "output_type": "execute_result"
    }
   ],
   "source": [
    "C_mat = A * B # matrix product"
   ]
  },
  {
   "cell_type": "markdown",
   "metadata": {},
   "source": [
    "#### Indexing\n",
    "\n",
    "Indexing of julia Arrays is a multi-dimensional extension of list indexing, where each dimension's indices are separated by a comma (in fact, julia lists are really just one-dimensional Arrays)."
   ]
  },
  {
   "cell_type": "code",
   "execution_count": 31,
   "metadata": {},
   "outputs": [
    {
     "name": "stdout",
     "output_type": "stream",
     "text": [
      "[1.0 1.0; 0.0 1.0]\n",
      "0.0\n"
     ]
    }
   ],
   "source": [
    "println(A)\n",
    "println(A[2, 1])"
   ]
  },
  {
   "cell_type": "markdown",
   "metadata": {},
   "source": [
    "Conditional indexing is a powerful tool for manipulating data in Arrays:"
   ]
  },
  {
   "cell_type": "code",
   "execution_count": 32,
   "metadata": {},
   "outputs": [
    {
     "name": "stdout",
     "output_type": "stream",
     "text": [
      "Bool[1 1; 0 1]\n",
      "[1.0, 1.0, 1.0]\n",
      "[2.0 2.0; 0.0 2.0]\n"
     ]
    }
   ],
   "source": [
    "indices = A.==1.\n",
    "println(indices)\n",
    "\n",
    "println(A[indices]) # note that the indexed Array is flattened into a 1-D array\n",
    "\n",
    "A[indices] .= 2. # This assignment only  applies wherever the value in the indices array is a Boolean true\n",
    "println(A)"
   ]
  },
  {
   "cell_type": "markdown",
   "metadata": {},
   "source": [
    "#### Built-in functions\n",
    "\n",
    "Julia provides useful functions such as computing the sum of all the elements in the array."
   ]
  },
  {
   "cell_type": "code",
   "execution_count": 33,
   "metadata": {},
   "outputs": [
    {
     "data": {
      "text/plain": [
       "6.0"
      ]
     },
     "execution_count": 33,
     "metadata": {},
     "output_type": "execute_result"
    }
   ],
   "source": [
    "my_sum = sum(A)"
   ]
  },
  {
   "cell_type": "markdown",
   "metadata": {},
   "source": [
    "By default, these operations apply to the array as though it were a list of numbers, regardless of its shape. However, by specifying the `dims` parameter you can apply an operation along the specified dimension of an array:"
   ]
  },
  {
   "cell_type": "code",
   "execution_count": 34,
   "metadata": {},
   "outputs": [
    {
     "data": {
      "text/plain": [
       "1×2 Array{Float64,2}:\n",
       " 2.0  4.0"
      ]
     },
     "execution_count": 34,
     "metadata": {},
     "output_type": "execute_result"
    }
   ],
   "source": [
    "my_sum = sum(A, dims=1)"
   ]
  },
  {
   "cell_type": "markdown",
   "metadata": {},
   "source": [
    "#### Exercise 4"
   ]
  },
  {
   "cell_type": "code",
   "execution_count": 35,
   "metadata": {},
   "outputs": [],
   "source": [
    "# 4(a). Generate a 3x2 array of numbers of your choice using np.array . Check that the dimensions are right"
   ]
  },
  {
   "cell_type": "code",
   "execution_count": 36,
   "metadata": {},
   "outputs": [],
   "source": [
    "# 4(b). Write a program to get the values and indices \n",
    "# of the elements that are greater than 3 in your array (use a built-in julia function). Google is your friend :)"
   ]
  },
  {
   "cell_type": "code",
   "execution_count": 37,
   "metadata": {},
   "outputs": [],
   "source": [
    "# 4(c). Write a program that creates a 6x1 dimension array of zeros. Then fill that array with the sequence 1,2,3,4,5,6, \n",
    "# using a 'for' loop. "
   ]
  },
  {
   "cell_type": "code",
   "execution_count": null,
   "metadata": {},
   "outputs": [],
   "source": []
  },
  {
   "cell_type": "code",
   "execution_count": null,
   "metadata": {},
   "outputs": [],
   "source": []
  }
 ],
 "metadata": {
  "kernelspec": {
   "display_name": "Julia 1.2.0",
   "language": "julia",
   "name": "julia-1.2"
  },
  "language_info": {
   "file_extension": ".jl",
   "mimetype": "application/julia",
   "name": "julia",
   "version": "1.2.0"
  }
 },
 "nbformat": 4,
 "nbformat_minor": 4
}
