{
 "cells": [
  {
   "cell_type": "markdown",
   "metadata": {
    "toc-hr-collapsed": false
   },
   "source": [
    "## Lecture 2: Object-oriented programming and data analysis packages\n",
    "\n",
    "### MIT Practical Computing Tutorials for Earth Scientists\n",
    "<hr>"
   ]
  },
  {
   "cell_type": "markdown",
   "metadata": {
    "toc-hr-collapsed": false
   },
   "source": [
    "### Review: Python functions\n",
    "\n",
    "Recall from Lecture 1: Introduction to programming that a function is a block of code which only executes when it is called, not when it is defined. You can pass input data, which are separated by commas and known as arguments, into a function. Functions often calculate the value of some variable based on the input arguments and return a variable as the main result.\n",
    "\n",
    "Example: a simple function which takes two `string`-type arguments, a first and last name, as inputs and outputs the full name as a single string."
   ]
  },
  {
   "cell_type": "code",
   "execution_count": null,
   "metadata": {},
   "outputs": [],
   "source": [
    "# Function definition\n",
    "def print_name(first_name, last_name):\n",
    "    name = first_name + \" \" + last_name\n",
    "    return name\n",
    "  \n",
    "# Main program\n",
    "result = print_name(\"Margaret\", \"Hamilton\") # Function call\n",
    "\n",
    "print(result)"
   ]
  },
  {
   "cell_type": "markdown",
   "metadata": {},
   "source": [
    "Note: variables defined inside of functions are not accessible outside of the function, even if the function has been called!"
   ]
  },
  {
   "cell_type": "code",
   "execution_count": null,
   "metadata": {},
   "outputs": [],
   "source": [
    "name"
   ]
  },
  {
   "cell_type": "markdown",
   "metadata": {},
   "source": [
    "Functions can also be written to carry out various internal operations but not return anything, which in Python is represented by returning `None`, which has type `NoneType`."
   ]
  },
  {
   "cell_type": "code",
   "execution_count": null,
   "metadata": {},
   "outputs": [],
   "source": [
    "# Function definition\n",
    "def print_name2(first_name, last_name):\n",
    "    print(first_name + \" \" + last_name)\n",
    "    return\n",
    "  \n",
    "# Main program\n",
    "result = print_name2(\"Margaret\", \"Hamilton\") # Function call\n",
    "print(result)\n",
    "print(type(result))"
   ]
  },
  {
   "cell_type": "markdown",
   "metadata": {},
   "source": [
    "Functions help simplify otherwise complicated calculations that may consist of many individual operations, variables, and parameters.\n",
    "\n",
    "##### Example: a function for calculating the roots of a quadratic equation based on the quadratic formula\n",
    "It is much more efficient to create a function to calculate the roots of a quadratic equation\n",
    "\\begin{equation}\n",
    "a x^{2} + bx + c = 0\n",
    "\\end{equation}\n",
    "\n",
    "than to explicitly write out the quadratic formula\n",
    "\\begin{equation}\n",
    "x = \\frac{b \\; \\pm \\sqrt{b^{2} - 4ac}}{2a}\n",
    "\\end{equation}\n",
    "every time we need to use it. Writing function also reduces the likelihood that of a typo or *bug*, since only the function itself needs to be proofread once, not every single time we wish to perform the operation.\n",
    "\n"
   ]
  },
  {
   "cell_type": "code",
   "execution_count": null,
   "metadata": {},
   "outputs": [],
   "source": [
    "def quadratic_roots(a, b, c):\n",
    "    x1 = (-b + (b**2 - 4. *a*c)**0.5)/(2*a)\n",
    "    x2 = (-b - (b**2 - 4. *a*c)**0.5)/(2*a)\n",
    "    return x1, x2 # we can return more than one variable\n",
    "\n",
    "a, b, c = 1., 2., -3. # example coefficients\n",
    "x1, x2 = quadratic_roots(a, b, c) # the function returns both variables: x1 and x2\n",
    "\n",
    "# We can use boolean logic to verify that the calculated values are indeed roots of the quadratic equation\n",
    "print('Verification: ')\n",
    "print(a * x1**2 + b * x1 + c == 0.)\n",
    "print(a * x2**2 + b * x2 + c == 0.)\n",
    "\n",
    "# And verify that some arbitrary guess is not a root\n",
    "xguess = 1.2345\n",
    "print('\\nGuess: ') # '\\n' is the \"newline\" character\n",
    "print(a * xguess**2 + b * xguess + c == 0.)"
   ]
  },
  {
   "cell_type": "markdown",
   "metadata": {},
   "source": [
    "A Function is a useful and efficient way of bundling code that does one specific task. When the task at hand requires many different functions operating on a wide variety of different variables or variable types, it is often useful to use a more abstract kind of data structure than a function: a user-defined object."
   ]
  },
  {
   "cell_type": "markdown",
   "metadata": {
    "toc-hr-collapsed": false
   },
   "source": [
    "### Python Objects"
   ]
  },
  {
   "cell_type": "markdown",
   "metadata": {
    "toc-hr-collapsed": true
   },
   "source": [
    "#### Python `class`\n",
    "\n",
    "A `class` is essentially a blueprint for creating new kinds of Python objects (see more [here](https://www.w3schools.com/python/python_classes.asp)).\n",
    "\n",
    "The following is a very simple example of a Python class (so simple it is hardly useful – but will become the building block for a more advanced object), as applied to the example of an object that represents a quadratic function\n",
    "\\begin{equation}\n",
    "y = ax^{2} + bx + c.\n",
    "\\end{equation}\n",
    "\n",
    "A quadratic equation is uniquely defined by its three coefficients $a$, $b$, and $c$ and thus we define a basic `quadratic()` class based on assigned values for these three coefficients.\n"
   ]
  },
  {
   "cell_type": "code",
   "execution_count": null,
   "metadata": {},
   "outputs": [],
   "source": [
    "class quadratic():\n",
    "    a = 1.\n",
    "    b = 2.\n",
    "    c = -3.\n"
   ]
  },
  {
   "cell_type": "markdown",
   "metadata": {},
   "source": [
    "As was the case with functions, defining a function does not yet run any of its code: you need to call the class for it to execute. Here, we assign the variable `q` with this particular instance of the object defined by the class `quadratic`, which we call by appending the class with `()`."
   ]
  },
  {
   "cell_type": "code",
   "execution_count": null,
   "metadata": {},
   "outputs": [],
   "source": [
    "q = quadratic()\n",
    "\n",
    "print(\"The definition of the class itself: \")\n",
    "print(quadratic)\n",
    "print(\"\\nOne particular instance `q` of the object defined by the class: \")\n",
    "print(q)"
   ]
  },
  {
   "cell_type": "markdown",
   "metadata": {},
   "source": [
    "We can access the variables defined inside of our instance of `q` with the `.` operator:"
   ]
  },
  {
   "cell_type": "code",
   "execution_count": null,
   "metadata": {},
   "outputs": [],
   "source": [
    "print(q.a)"
   ]
  },
  {
   "cell_type": "markdown",
   "metadata": {},
   "source": [
    "Once we create an instance of the object, we can also modify it's values"
   ]
  },
  {
   "cell_type": "code",
   "execution_count": null,
   "metadata": {},
   "outputs": [],
   "source": [
    "q.a = 2.\n",
    "print(q.a)"
   ]
  },
  {
   "cell_type": "markdown",
   "metadata": {},
   "source": [
    "##### Exercise: using variables within an object instance\n",
    "1. Use the coefficients contained in the class above to evaluate the quadratic function (at this point, the class is not very useful – this is just an exercise in getting used to accessing variables from within an object instance!)\n",
    "\\begin{equation}\n",
    "y(x) = x^{2} + 2x - 3\n",
    "\\end{equation}\n",
    "at $x=5$ and print its value."
   ]
  },
  {
   "cell_type": "code",
   "execution_count": null,
   "metadata": {},
   "outputs": [],
   "source": [
    "### Type your solution below:\n",
    "q = quadratic()\n",
    "x = 5."
   ]
  },
  {
   "cell_type": "markdown",
   "metadata": {
    "toc-hr-collapsed": true
   },
   "source": [
    "#### Python `method`\n",
    "\n",
    "A Python `method` is essentially a `function` that is attached to a specific `class` and lives entirely within that class.\n",
    "\n",
    "A class' method always has the class itself as it's first argument: typically the keyword `self` is used to clarify that the method acts on the class it*self*. By passing `self` as an argument, the method can call upon any variables (or other methods) defined within the class.\n",
    "\n",
    "For example, we can include a method `evaluate(self, x)` to our `quadratic` class which evaluates the value of $y = a x^{2} + bx + c$ at a given $x$."
   ]
  },
  {
   "cell_type": "code",
   "execution_count": null,
   "metadata": {},
   "outputs": [],
   "source": [
    "class quadratic():\n",
    "    a = 1.\n",
    "    b = 2.\n",
    "    c = -3.\n",
    "    \n",
    "    def evaluate(self, x):\n",
    "        return self.a * x**2 + self.b * x + self.c"
   ]
  },
  {
   "cell_type": "markdown",
   "metadata": {},
   "source": [
    "A method is called with the syntax:\n",
    "\n",
    "```python\n",
    "[class_name].[method_named]([object_instance], [other method arguments])\n",
    "```"
   ]
  },
  {
   "cell_type": "code",
   "execution_count": null,
   "metadata": {},
   "outputs": [],
   "source": [
    "q = quadratic()\n",
    "x = 0.\n",
    "y = quadratic.evaluate(q, x) # calling a method\n",
    "print(y)"
   ]
  },
  {
   "cell_type": "markdown",
   "metadata": {},
   "source": [
    "Here, `quadratic` is the class while `q` is merely one instance of the object defined by the class.\n",
    "\n",
    "By calling the method on a specific instance of a class, the method recognizes the instance as `self` and the first argument of the method can be omitted:"
   ]
  },
  {
   "cell_type": "code",
   "execution_count": null,
   "metadata": {},
   "outputs": [],
   "source": [
    "y = q.evaluate(x) # concise way of calling a method\n",
    "print(y)"
   ]
  },
  {
   "cell_type": "markdown",
   "metadata": {},
   "source": [
    "##### The `__init__` method\n",
    "\n",
    "The class we have defined so far is not very flexible: every time we call the class to create and object instance the values of `a`, `b`, and `c` will be exactly the same, since their numeric values were directly assigned (\"hard-coded\") within the class definition.\n",
    "\n",
    "We can use the `__init__` method, which is the standard way to pass arguments to initialize methods:"
   ]
  },
  {
   "cell_type": "code",
   "execution_count": null,
   "metadata": {},
   "outputs": [],
   "source": [
    "class quadratic():\n",
    "    def __init__(self, a, b, c):\n",
    "        self.a = a\n",
    "        self.b = b\n",
    "        self.c = c\n",
    "        \n",
    "    def evaluate(self, x):\n",
    "        return self.a * x**2 + self.b * x + self.c\n",
    "    \n",
    "q = quadratic(3., 2., -5.) # now we can assign different coefficients upon creation of the object instance\n",
    "\n",
    "x = -2.\n",
    "y = q.evaluate(x)\n",
    "print(y)"
   ]
  },
  {
   "cell_type": "markdown",
   "metadata": {},
   "source": [
    "##### Exercise: add a method to a class\n",
    "\n",
    "Add a method `calc_roots`, which returns the two roots of a quadratic equation, to the `quadratic` class. Create a few different instances of quadratic equations and print their roots. What data type are the roots of the equation $y(x) = x^{2} + x + 1$?\n"
   ]
  },
  {
   "cell_type": "code",
   "execution_count": null,
   "metadata": {},
   "outputs": [],
   "source": [
    "# Hint: re-use the well-tested quadratic_roots(a, b, c) function above to minimize redundant code!\n",
    "\n",
    "class quadratic():\n",
    "    def __init__(self, a, b, c):\n",
    "        self.a = a\n",
    "        self.b = b\n",
    "        self.c = c\n",
    "        \n",
    "    def evaluate(self, x):\n",
    "        return self.a * x**2 + self.b * x + self.c\n",
    "    \n",
    "    def calc_roots(self):\n",
    "        pass # Replace pass with code to return the roots of the quadratic\n"
   ]
  },
  {
   "cell_type": "markdown",
   "metadata": {},
   "source": [
    "The solution to the exercise is shown in the Python `module` example below."
   ]
  },
  {
   "cell_type": "markdown",
   "metadata": {
    "toc-hr-collapsed": true
   },
   "source": [
    "#### Python `method` inheritance\n",
    "\n",
    "It is common to have two classes which may share variables or methods in common. A \"child\" class can inherit the variables and methods of a \"parent\" class by defining it with the syntax\n",
    "```python\n",
    "class [child_class_name]([parent_class_name]):\n",
    "```\n",
    "\n",
    "Consider for example that we would like to create a class describing a parabola\n",
    "\\begin{equation}\n",
    "y = a x^{2} + c\n",
    "\\end{equation}\n",
    "which is a specific case of a quadratic equation for which $b=0$.\n",
    "\n",
    "Rather than copy-pasting the methods of the `quadratic` class to create a new class from scratch, we can simply tell our new `parabola` class to inherent the properties of the parent class `quadratic` and make any additional modifications which differentiate a parabola from a quadratic."
   ]
  },
  {
   "cell_type": "code",
   "execution_count": null,
   "metadata": {},
   "outputs": [],
   "source": [
    "class quadratic():\n",
    "    def __init__(self, a, b, c):\n",
    "        self.a = a\n",
    "        self.b = b\n",
    "        self.c = c\n",
    "        \n",
    "    def evaluate(self, x):\n",
    "        return self.a * x**2 + self.b * x + self.c\n",
    "\n",
    "class parabola(quadratic): # inherit from quadratic\n",
    "    def __init__(self, a, c): # b = 0 by definition so we do not need it as an input\n",
    "        self.a = a\n",
    "        self.b = 0.\n",
    "        self.c = c\n",
    "\n",
    "print('Verify that `quadratic` and `parabola` give the same results when b=0:', end=' ')\n",
    "\n",
    "x = 0.\n",
    "q = quadratic(1., 0, -1.)\n",
    "p = parabola(1., -1.)\n",
    "print(p.evaluate(x) == q.evaluate(x)) # Note that parabola has inherited the evaluate(self, x) method!"
   ]
  },
  {
   "cell_type": "markdown",
   "metadata": {
    "toc-hr-collapsed": true
   },
   "source": [
    "#### Python `module` and `import`\n",
    "\n",
    "Our current method of defining classes and functions requires us (and any collaborators!) to copy and paste the class or function definitions in every single notebook or script that we write. This makes it very difficult to keep track of changes and which versions of an object are defined where.\n",
    "\n",
    "Instead, it is desirable to define a master version of each Python object in an external Python script dedicated solely to that purpose. Then, we can simply import the snippets of code we need from the master version, when we need them. If we update the master version, any code that imports it will get those updates.\n",
    "\n",
    "The \"master version\" of a Python function or object resides in a python script which we call a `module`. We can `import` the module (or just specific objects in the module) in any python working space."
   ]
  },
  {
   "cell_type": "markdown",
   "metadata": {},
   "source": [
    "##### Example: creating a `quadratic` module\n",
    "\n",
    "We have created a python script `quadratic.py` (it resides in the same directory as this notebook) which contains the following classes, which are described at length above:\n",
    "\n",
    "```python\n",
    "def quadratic_roots(a, b, c):\n",
    "    x1 = (-b + (b**2 - 4. *a*c)**0.5)/(2*a)\n",
    "    x2 = (-b - (b**2 - 4. *a*c)**0.5)/(2*a)\n",
    "    return x1, x2 # we can return more than one variable\n",
    "\n",
    "class quadratic():\n",
    "    def __init__(self, a, b, c):\n",
    "        self.a = a\n",
    "        self.b = b\n",
    "        self.c = c\n",
    "        \n",
    "    def evaluate(self, x):\n",
    "        return self.a * x**2 + self.b * x + self.c\n",
    "    \n",
    "    def calc_roots(self):\n",
    "        return quadratic_roots(self.a, self.b, self.c)\n",
    "\n",
    "class parabola(quadratic):\n",
    "    def __init__(self, a, c):\n",
    "        self.a = a\n",
    "        self.b = 0.\n",
    "        self.c = c\n",
    "```\n",
    "\n",
    "We can import all of the contents of the module (the name of the module is the python script's filename `quadratic.py` minus the `.py` suffix):"
   ]
  },
  {
   "cell_type": "code",
   "execution_count": null,
   "metadata": {},
   "outputs": [],
   "source": [
    "import quadratic\n",
    "\n",
    "print(quadratic)\n",
    "print(quadratic.quadratic)\n",
    "q = quadratic.quadratic(1., 2., -3.)\n",
    "print(q)"
   ]
  },
  {
   "cell_type": "markdown",
   "metadata": {},
   "source": [
    "Note that `quadratic` is both the name of the module and one of the classes within the module (this is confusing but also fairly common practice with python modules).\n",
    "\n",
    "We can also import individual classes from the module, one at a time:"
   ]
  },
  {
   "cell_type": "code",
   "execution_count": null,
   "metadata": {},
   "outputs": [],
   "source": [
    "from quadratic import parabola as parab\n",
    "p = parab(1., 2.)"
   ]
  },
  {
   "cell_type": "markdown",
   "metadata": {
    "toc-hr-collapsed": true
   },
   "source": [
    "#### (Optional) Documentating Python objects"
   ]
  },
  {
   "cell_type": "markdown",
   "metadata": {},
   "source": [
    "Note: It is good practice to document your own functions, so future users (including yourself at a later date) know how to use your function. In Python, multi-line comments that come directly after the function definition line are called [\"Docstrings\"](https://www.python.org/dev/peps/pep-0257/) (short for Documentation Strings) and are represented by typing `\"\"\"` at the beginning and end of the multi-line comment (see example below)."
   ]
  },
  {
   "cell_type": "code",
   "execution_count": null,
   "metadata": {},
   "outputs": [],
   "source": [
    "def plus_one(x):\n",
    "    \"\"\"\n",
    "    Add 1. to the input value\n",
    "    \n",
    "    Arguments:\n",
    "    x -- input value (float64)\n",
    "    \"\"\"\n",
    "    return x+1.\n",
    "\n",
    "print(plus_one(1.))"
   ]
  },
  {
   "cell_type": "markdown",
   "metadata": {},
   "source": [
    "By putting your cursor right after the opening parentheses of a function call...\n",
    "\n",
    "![cursor behind function call](docs/docstring_cursor.png)\n",
    "\n",
    "...and pressing the `[Shift]` + `[Tab]` keys together, Python brings up information about the function, beginning with the text in the Docstring\n",
    "\n",
    "![cursor behind function call](docs/docstring.png)"
   ]
  },
  {
   "cell_type": "markdown",
   "metadata": {},
   "source": [
    "##### Exercise: write your own docstrings\n",
    "\n",
    "Add some Docstrings that describe the classes and methods in `quadratic.py`!\n",
    "\n",
    "Use `[Shift]` + `[Tab]` to look at the Docstrings for built in Python functions like `print()`, `range()`, and `sum()` for inspiration."
   ]
  },
  {
   "cell_type": "markdown",
   "metadata": {
    "toc-hr-collapsed": false
   },
   "source": [
    "### Commonly-used python packages for data analysis\n",
    "\n",
    "The above example of creating a well-documented simple Python module `quadratic.py` illustrates how we can efficiently bundle useful functions and leverage class inheritance and class methods to solve complex problems without sacrificing readability, efficiency, and modularity of our code.\n",
    "\n",
    "Python, being an open-source programming language, encourages users to develop their own modules (or even modify Python's core code base!) and share them widely via package registries such as [conda-forge](https://conda-forge.org/) and the [Python Package Index (PyPI)](https://pypi.org/). We recommend using the [Anaconda Distribution](https://www.anaconda.com/) to manage package installation for you (it handles the network of package dependencies efficiently behind the scenes) as it is the simplest and most convenient method. In some cases, you may need to revert to using other methods such as [pip](https://pip.pypa.io/en/stable/) or directly cloning source code from [Github](https://github.com/).\n",
    "\n",
    "A good scientific computing workflow leverages the hard work that has gone into developing open-source packages to improve efficiency, readability, and reliability. While it is important not to waste time by \"re-inventing the wheel\", it is equally important to use packages critically and not simply treat them as a black box (get in the habbit of reading Docstrings and looking up the source code for packages you use often)! Who knows, maybe you will discover a critical bug in a widely-used software package and become a hero of your fellow open-source programmers!\n",
    "\n",
    "For the remainder of the tutorial, we introduce the key python packages commonly used in earth science data analysis, complete with example applications to earth science data sets and exercises for hands-on practice."
   ]
  },
  {
   "cell_type": "markdown",
   "metadata": {
    "toc-hr-collapsed": true
   },
   "source": [
    "\n",
    "<hr>\n",
    "\n",
    "#### [`numpy`](https://numpy.org/): the fundamental package for scientific computing with Python"
   ]
  },
  {
   "cell_type": "markdown",
   "metadata": {},
   "source": [
    "##### About `numpy`\n",
    "\n",
    "The main purpose of the [Numpy](https://numpy.org/devdocs/reference/index.html) package is to allow the creation and manipulation of arrays. A numpy array is an N-dimensional table of elements (usually floats), all of the same type, indexed by integers. In Numpy, dimensions are called axes.\n",
    "\n",
    "Since `numpy` was briefly introduced in Lecture 1, we will briskly review its key features."
   ]
  },
  {
   "cell_type": "code",
   "execution_count": null,
   "metadata": {},
   "outputs": [],
   "source": [
    "import numpy as np"
   ]
  },
  {
   "cell_type": "markdown",
   "metadata": {},
   "source": [
    "Creating a `numpy` array manually:"
   ]
  },
  {
   "cell_type": "code",
   "execution_count": null,
   "metadata": {},
   "outputs": [],
   "source": [
    "x = np.array([\n",
    "    [1., 2., 3.],\n",
    "    [4., 5., 6.]\n",
    "])\n",
    "x"
   ]
  },
  {
   "cell_type": "markdown",
   "metadata": {},
   "source": [
    "We can create an identical array using the `numpy.arange` function and the reshape `numpy.Array.reshape` method:"
   ]
  },
  {
   "cell_type": "code",
   "execution_count": null,
   "metadata": {},
   "outputs": [],
   "source": [
    "x = np.arange(1., 7., 1.)\n",
    "print(x)\n",
    "x = x.reshape((2,3))\n",
    "print(x)"
   ]
  },
  {
   "cell_type": "markdown",
   "metadata": {},
   "source": [
    "We can perform basic elementwise operations on numpy arrays:"
   ]
  },
  {
   "cell_type": "code",
   "execution_count": null,
   "metadata": {},
   "outputs": [],
   "source": [
    "x + 2."
   ]
  },
  {
   "cell_type": "code",
   "execution_count": null,
   "metadata": {},
   "outputs": [],
   "source": [
    "x**2"
   ]
  },
  {
   "cell_type": "markdown",
   "metadata": {},
   "source": [
    "We can index them, using the same conventions as for Python lists:"
   ]
  },
  {
   "cell_type": "code",
   "execution_count": null,
   "metadata": {},
   "outputs": [],
   "source": [
    "x[1:2, 1:3]"
   ]
  },
  {
   "cell_type": "markdown",
   "metadata": {},
   "source": [
    "As well as boolean array logic:"
   ]
  },
  {
   "cell_type": "code",
   "execution_count": null,
   "metadata": {},
   "outputs": [],
   "source": [
    "indices = x**2 > 5.\n",
    "print(indices)\n",
    "print(x[indices])\n",
    "print(~indices) # ~ is a boolean \"not\" operator, which turns all Trues to False and vice-versa.\n",
    "print(x[~indices])"
   ]
  },
  {
   "cell_type": "markdown",
   "metadata": {},
   "source": [
    "Numpy has variations operations which can be applies to numpy arrays:"
   ]
  },
  {
   "cell_type": "code",
   "execution_count": null,
   "metadata": {},
   "outputs": [],
   "source": [
    "print(np.sum(x)) # sum all elements in array\n",
    "print(np.sum(x, axis=0)) # sum all elements along axis 0 (first index) of array\n",
    "print(np.mean(x)) # average all elements along axis 0 (first index) of array\n",
    "print(np.mean(x, axis=1)) # average all elements along axis 1 (second index) of array"
   ]
  },
  {
   "cell_type": "markdown",
   "metadata": {},
   "source": [
    "We can copy make an exact copy of an array."
   ]
  },
  {
   "cell_type": "code",
   "execution_count": null,
   "metadata": {},
   "outputs": [],
   "source": [
    "x_copy = x.copy()\n",
    "x_copy"
   ]
  },
  {
   "cell_type": "markdown",
   "metadata": {},
   "source": [
    "We can also do conditional assignments (note: modifying a copy of an array does not modify the original array!)"
   ]
  },
  {
   "cell_type": "code",
   "execution_count": null,
   "metadata": {},
   "outputs": [],
   "source": [
    "x_copy[indices] = 0.\n",
    "print(x_copy)\n",
    "print(x)"
   ]
  },
  {
   "cell_type": "markdown",
   "metadata": {},
   "source": [
    "Finally, we can also pass arrays through our own functions! For example, we can use our custom quadratic module defined above and evaluate a quadratic function across all values of our `x` array:"
   ]
  },
  {
   "cell_type": "code",
   "execution_count": null,
   "metadata": {},
   "outputs": [],
   "source": [
    "q = quadratic.quadratic(1., 2., -3.)\n",
    "y = q.evaluate(x)\n",
    "print(y)"
   ]
  },
  {
   "cell_type": "markdown",
   "metadata": {
    "toc-hr-collapsed": true
   },
   "source": [
    "<hr>\n",
    "\n",
    "#### `matplotlib`: a Python 2D plotting library which produces publication quality figures in a variety of formats and interactive environments"
   ]
  },
  {
   "cell_type": "code",
   "execution_count": null,
   "metadata": {},
   "outputs": [],
   "source": [
    "import matplotlib.pyplot as plt"
   ]
  },
  {
   "cell_type": "markdown",
   "metadata": {},
   "source": [
    "##### Plotting 1-dimensional data"
   ]
  },
  {
   "cell_type": "code",
   "execution_count": null,
   "metadata": {},
   "outputs": [],
   "source": [
    "x = np.arange(-1., 1., 0.01)\n",
    "y = x**3\n",
    "plt.plot(x, y)"
   ]
  },
  {
   "cell_type": "code",
   "execution_count": null,
   "metadata": {},
   "outputs": [],
   "source": [
    "q = quadratic.quadratic(1., 2., -3.)\n",
    "y = q.evaluate(x)\n",
    "plt.plot(x, y)\n",
    "\n",
    "q = quadratic.quadratic(-1., 5., -2.)\n",
    "y = q.evaluate(x)\n",
    "plt.plot(x, y)"
   ]
  },
  {
   "cell_type": "markdown",
   "metadata": {},
   "source": [
    "##### Plotting 2-dimensional data"
   ]
  },
  {
   "cell_type": "code",
   "execution_count": null,
   "metadata": {},
   "outputs": [],
   "source": [
    "x = np.arange(-1., 1., 0.01)[np.newaxis, :]\n",
    "y = np.arange(-1., 1., 0.01)[:, np.newaxis]\n",
    "\n",
    "z = np.cos(2.*np.pi*x) + np.cos(2.*np.pi*y)\n",
    "\n",
    "plt.pcolormesh(x, y, z)\n",
    "plt.colorbar()"
   ]
  },
  {
   "cell_type": "markdown",
   "metadata": {},
   "source": [
    "##### Customizing a plot\n",
    "\n",
    "There are many ways to customize a plot. Some of the most common modifications to make are:\n",
    "- [colormaps](https://matplotlib.org/3.1.0/tutorials/colors/colormaps.html)\n",
    "- [labeling](https://matplotlib.org/3.1.1/api/_as_gen/matplotlib.pyplot.xlabel.html)\n",
    "- [data marker and line styling](https://matplotlib.org/3.1.1/api/_as_gen/matplotlib.pyplot.plot.html)\n",
    "- [figure formatting](https://matplotlib.org/api/_as_gen/matplotlib.pyplot.subplots.html)"
   ]
  },
  {
   "cell_type": "code",
   "execution_count": null,
   "metadata": {},
   "outputs": [],
   "source": [
    "x = np.arange(-1., 1., 0.01)[np.newaxis, :]\n",
    "y = np.arange(-1., 1., 0.01)[:, np.newaxis]\n",
    "\n",
    "z = np.cos(2.*np.pi*x) + np.cos(2.*np.pi*y)\n",
    "\n",
    "plt.figure(figsize=(10,4))\n",
    "plt.subplot(1,2,1)\n",
    "plt.pcolormesh(x, y, z, cmap=plt.get_cmap('RdBu_r'))\n",
    "plt.colorbar(label='wave height')\n",
    "plt.xlabel('x')\n",
    "plt.ylabel('y')\n",
    "plt.title('A linear wave field')\n",
    "\n",
    "plt.subplot(1,2,2)\n",
    "plt.plot(y[::5], np.cos(2.*np.pi*y)[::5], \"k*--\")\n",
    "plt.xlabel('x')\n",
    "plt.ylabel('wave height')\n",
    "plt.tight_layout()\n",
    "plt.savefig('figures/waves.png', dpi=100, bbox_inches='tight')"
   ]
  },
  {
   "cell_type": "markdown",
   "metadata": {},
   "source": [
    "##### Exercise: use numpy functions to generate your own toy data set and plot it using matplotlib!"
   ]
  },
  {
   "cell_type": "code",
   "execution_count": null,
   "metadata": {},
   "outputs": [],
   "source": [
    "### Type your solution below\n",
    "\n"
   ]
  },
  {
   "cell_type": "markdown",
   "metadata": {
    "toc-hr-collapsed": true
   },
   "source": [
    "<hr>\n",
    "\n",
    "#### [`netCDF4`](https://unidata.github.io/netcdf4-python/netCDF4/index.html): a Python interface to the [netCDF](https://www.unidata.ucar.edu/software/netcdf/) C library."
   ]
  },
  {
   "cell_type": "markdown",
   "metadata": {},
   "source": [
    "##### About `netCDF4`\n",
    "\n",
    "The Network Common Data Form (NetCDF) is \"a set of software libraries and machine-independent data formats that support the creation, access, and sharing of array-oriented scientific data\".\n",
    "\n",
    "The adoption of this common data format starting in the 1989 facilitated the development of generic codes for writing, reading, and analyzing multi-dimensional data, where data formats previously differed across scientific institutions and each unique data format required their own dedicated software libraries. The NetCDF data format (`.nc` suffix) is a standardized way of storing N-dimensional arrays (stored as `numpy` objects in Python) and metadata (stored as `string` objects in Python) in binary.\n",
    "\n",
    "The `netcdf4` Python module provides a metadata-aware interface between the binary data and the user's Python environment."
   ]
  },
  {
   "cell_type": "code",
   "execution_count": null,
   "metadata": {},
   "outputs": [],
   "source": [
    "import netCDF4 as nc"
   ]
  },
  {
   "cell_type": "markdown",
   "metadata": {},
   "source": [
    "The following is a list of a few example data sets for a few subfields of earth science:\n",
    " - Topographic elevation of Cold Bay Alaska: `dataset_list[0] = cold_bay_akaska_elevation.nc`\n",
    " - HadCRUT gridded near-surface air temperature data: `dataset_list[1] = HadCRUT.4.6.0.0.median.nc`\n",
    " - Global Precipitation Climatology Project (GPCP) gridded precipitation data: `dataset_list[2] = GPCP_precip.nc`\n"
   ]
  },
  {
   "cell_type": "code",
   "execution_count": null,
   "metadata": {},
   "outputs": [],
   "source": [
    "dataset_list = [\n",
    "    \"cold_bay_alaska_elevation.nc\",\n",
    "    \"HadCRUT.4.6.0.0.median.nc\",\n",
    "    \"GPCP_precip.nc\"\n",
    "]"
   ]
  },
  {
   "cell_type": "markdown",
   "metadata": {},
   "source": [
    "##### Example: topographic elevation in the region surrounding Cold Bay, Alaska\n",
    "\n",
    "In the following example of the topography of the region near Cold Bay, Alaska (the first entry in `dataset_list`), we show how to read, analyze, and plot a NetCDF dataset.\n",
    "\n",
    "We begin by initializing a `Dataset` object from the `netCDF4` module by passing the path to the file as an argument."
   ]
  },
  {
   "cell_type": "code",
   "execution_count": null,
   "metadata": {},
   "outputs": [],
   "source": [
    "data = nc.Dataset(\"data/\"+dataset_list[0])"
   ]
  },
  {
   "cell_type": "markdown",
   "metadata": {},
   "source": [
    "Using `print(data)`, we can look at the how all of the data and metadata is organized in the netCDF4 dataset."
   ]
  },
  {
   "cell_type": "code",
   "execution_count": null,
   "metadata": {},
   "outputs": [],
   "source": [
    "print(data)"
   ]
  },
  {
   "cell_type": "markdown",
   "metadata": {},
   "source": [
    "Near the bottom of the long print statement, the `variables(dimensions):` shows the three key variables. The dependent variable of interest, `Band1(lat, lon)` is a two-dimensional function of the variables `lat(lat)` and `lon(lon)`, which are self-describing independent variables.\n",
    "\n",
    "The `title` attribute in the dataset gives us a short summary of the data represented in the dataset, which tells us that `Band1` is likely the elevation."
   ]
  },
  {
   "cell_type": "code",
   "execution_count": null,
   "metadata": {},
   "outputs": [],
   "source": [
    "print(data.title)"
   ]
  },
  {
   "cell_type": "markdown",
   "metadata": {},
   "source": [
    "It is not immediately obvious what `Band1` means to the non-expert, so we can print it's metadata to learn more:"
   ]
  },
  {
   "cell_type": "code",
   "execution_count": null,
   "metadata": {},
   "outputs": [],
   "source": [
    "print(data['Band1'])"
   ]
  },
  {
   "cell_type": "code",
   "execution_count": null,
   "metadata": {},
   "outputs": [],
   "source": []
  },
  {
   "cell_type": "markdown",
   "metadata": {},
   "source": [
    "The `long_name` attribute in the variable's metadata tells us that `Band1` corresponds to Band Number 1, as defined by the Geospatial Data Abstraction Library (GDAL) conventions.\n",
    "\n",
    "Similarly, we can get some more metadata on the `lat` and `lon` variables:"
   ]
  },
  {
   "cell_type": "code",
   "execution_count": null,
   "metadata": {},
   "outputs": [],
   "source": [
    "print(data['lon'], data['lat'])"
   ]
  },
  {
   "cell_type": "markdown",
   "metadata": {},
   "source": [
    "Finally, we can get a preview of the dataset's numerical values by indexing along both dimensions:"
   ]
  },
  {
   "cell_type": "code",
   "execution_count": null,
   "metadata": {},
   "outputs": [],
   "source": [
    "print(data['Band1'][:,:])"
   ]
  },
  {
   "cell_type": "markdown",
   "metadata": {},
   "source": [
    "Using the matplotlib functions from above, we can plot a map of the topographic elevation in the region"
   ]
  },
  {
   "cell_type": "code",
   "execution_count": null,
   "metadata": {},
   "outputs": [],
   "source": [
    "plt.pcolormesh(data['lon'], data['lat'], data['Band1'])"
   ]
  },
  {
   "cell_type": "markdown",
   "metadata": {},
   "source": [
    "This command generates a color plot with dark blues representing low elevations and bright yellows representing high elevations, with longitude on the x-axis and latitude on the y-axis. If we want to share this plot with others however, we probably first want to add some metadata labels, such as axis labels, a labeled colorbar, and a title."
   ]
  },
  {
   "cell_type": "code",
   "execution_count": null,
   "metadata": {},
   "outputs": [],
   "source": [
    "# Make a color map of the data\n",
    "plt.pcolormesh(\n",
    "    data['lon'],\n",
    "    data['lat'],\n",
    "    data['Band1'],\n",
    ")\n",
    "\n",
    "# Add some metadata labels\n",
    "plt.xlabel('longitude (decimal degrees)')\n",
    "plt.ylabel('latitude (decimal degrees)')\n",
    "plt.colorbar(label='elevation above sea level [m]')\n",
    "plt.title('Topographic elevation in the Cold Bay, Alaska region');"
   ]
  },
  {
   "cell_type": "markdown",
   "metadata": {},
   "source": [
    "We can zoom in on the mountain range in the north-east of the region by finding the indixes in the longitude and latitude dimensions corresponding to roughly:\n",
    "\n",
    "$-163.25^{\\circ}$E $ < $ `lon` $ < -161.75^{\\circ}$E\n",
    "\n",
    "$54.5^{\\circ}$N $ < $ `lat` $ < 56.75^{\\circ}$N"
   ]
  },
  {
   "cell_type": "code",
   "execution_count": null,
   "metadata": {},
   "outputs": [],
   "source": [
    "lon_idx = (-163.25 < data['lon'][:]) & (data['lon'][:] < -161.75)\n",
    "lat_idx = (54.5 < data['lat'][:]) & (data['lat'][:] < 56.75)"
   ]
  },
  {
   "cell_type": "markdown",
   "metadata": {},
   "source": [
    "Plotting just the data for the zoomed-in region indices (note that the colorbar automatically adjusts to the maximum and minimum of our zoomed-in region):"
   ]
  },
  {
   "cell_type": "code",
   "execution_count": null,
   "metadata": {},
   "outputs": [],
   "source": [
    "# Make a color map of the data\n",
    "plt.pcolormesh(\n",
    "    data['lon'][lon_idx],\n",
    "    data['lat'][lat_idx],\n",
    "    data['Band1'][lat_idx, lon_idx],\n",
    ")\n",
    "\n",
    "# Add some metadata labels\n",
    "plt.xlabel('longitude (decimal degrees)')\n",
    "plt.ylabel('latitude (decimal degrees)')\n",
    "plt.colorbar(label='elevation above sea level [m]')\n",
    "plt.title('Topographic elevation in the Cold Bay, Alaska region');"
   ]
  },
  {
   "cell_type": "markdown",
   "metadata": {},
   "source": [
    "It is a little bit difficult to parse what is above and what is below sea level since anything less than a few hundred meters above sea level is dark blue, so let's add a black contour for sea level. While we're at it, let's also add some metadata labels and include a bit more information on the plot."
   ]
  },
  {
   "cell_type": "code",
   "execution_count": null,
   "metadata": {},
   "outputs": [],
   "source": [
    "# Make a color map of the data\n",
    "plt.pcolormesh(\n",
    "    data['lon'][lon_idx],\n",
    "    data['lat'][lat_idx],\n",
    "    data['Band1'][lat_idx, lon_idx],\n",
    "    cmap=plt.get_cmap('terrain') # change the colormap to something more terrestrial\n",
    ")\n",
    "plt.colorbar(extend='both', label='elevation above sea level [m]')\n",
    "plt.clim([-1000, 1000])\n",
    "\n",
    "# Contour sea level in black\n",
    "plt.contour(\n",
    "    data['lon'][lon_idx],\n",
    "    data['lat'][lat_idx],\n",
    "    data['Band1'][lat_idx, lon_idx],\n",
    "    colors='k',\n",
    "    levels=[0],\n",
    ")\n",
    "\n",
    "# Put a red dot at the location of the town Cold Bay\n",
    "plt.plot([-162.718], [55.205], 'ro', label='Cold Bay (town)')\n",
    "\n",
    "# Make the plot pretty\n",
    "plt.legend()\n",
    "plt.xlabel('longitude (decimal degrees)')\n",
    "plt.ylabel('latitude (decimal degrees)')\n",
    "plt.title('Cold Bay topography');\n",
    "\n",
    "plt.savefig('figures/cold_bay_elevation.png', dpi=100, bbox_inches='tight')"
   ]
  },
  {
   "cell_type": "markdown",
   "metadata": {},
   "source": [
    "##### Exercise: Analyze a dataset of your choice"
   ]
  },
  {
   "cell_type": "code",
   "execution_count": null,
   "metadata": {},
   "outputs": [],
   "source": [
    "## Type your code here:\n",
    "\n",
    "dataset_list"
   ]
  },
  {
   "cell_type": "markdown",
   "metadata": {
    "toc-hr-collapsed": true
   },
   "source": [
    "\n",
    "#### `pandas`: an open source, BSD-licensed library providing high-performance, easy-to-use data structures and data analysis tools"
   ]
  },
  {
   "cell_type": "markdown",
   "metadata": {},
   "source": [
    "##### About `pandas`"
   ]
  },
  {
   "cell_type": "code",
   "execution_count": null,
   "metadata": {},
   "outputs": [],
   "source": [
    "import pandas as pd"
   ]
  },
  {
   "cell_type": "markdown",
   "metadata": {},
   "source": [
    "Just as we used `netCDF4` to read NetCDF files into a `netCDF4.Dataset` object, we now use `pandas` to read an Excel Spreadsheet or, more formally, a text file with Comma-Separated Values (CSV) into a `pandas.Dataframe` object which similarly links tabulated ata with the metadata for each column.\n",
    "\n",
    "The following is a list of a few example data sets for a few subfields of earth science:\n",
    "- Mauna Loa CO$_{2}$ concentrations: `csv_list[0] = mauna_loa_co2.csv`\n",
    "- Global Earthquake data (Magnitude > 4.5, last 30 days): `csv_list[1] = big_earthquakes.csv`\n"
   ]
  },
  {
   "cell_type": "code",
   "execution_count": null,
   "metadata": {},
   "outputs": [],
   "source": [
    "csv_list = [\n",
    "    'mauna_loa_co2.csv',\n",
    "    'big_earthquakes.csv'\n",
    "]"
   ]
  },
  {
   "cell_type": "markdown",
   "metadata": {},
   "source": [
    "##### Example: CO$_{2}$ concentrations at Mauna Loa Observatory"
   ]
  },
  {
   "cell_type": "code",
   "execution_count": null,
   "metadata": {},
   "outputs": [],
   "source": [
    "df = pd.read_csv(\"data/\"+csv_list[0], header = 54)"
   ]
  },
  {
   "cell_type": "code",
   "execution_count": null,
   "metadata": {},
   "outputs": [],
   "source": [
    "df.head() # displays the first four rows of data, as well as the metadata for each column."
   ]
  },
  {
   "cell_type": "markdown",
   "metadata": {},
   "source": [
    "##### A common workflow glitch: data clean-up"
   ]
  },
  {
   "cell_type": "markdown",
   "metadata": {},
   "source": [
    "Inexplicably, the Scripps CO2 Program makes the metadata (i.e. column names and units) in their excel spreadsheets span multiple rows, and . \n",
    "\n",
    "That's alright – using some basic `pandas.DataFrame` methods and list comprehension, we can easily correct this."
   ]
  },
  {
   "cell_type": "code",
   "execution_count": null,
   "metadata": {},
   "outputs": [],
   "source": [
    "df = pd.read_csv(\"data/\"+csv_list[0], header = 54)\n",
    "\n",
    "# Add the first two rows to the column metadata...\n",
    "df.columns = [\n",
    "    \" \".join((a + \" \" + b + \" \" + c).replace(\"\\n\", \"\").split())\n",
    "    for a, b, c\n",
    "    in zip(list(df.columns), list(df.iloc[0]), list(df.iloc[1]))\n",
    "]\n",
    "df = df.drop(df.index[0:2]) # ...and then delete them from the actual data\n",
    "\n",
    "# We need convert the datatype back to floats since the strings of metadata\n",
    "# confused pandas...\n",
    "df = df.astype('float64')\n",
    "df = df.mask(df == -99.99) # and mask unphysical values (turn them into \"Not a Number\" or NaN types)\n",
    "df"
   ]
  },
  {
   "cell_type": "code",
   "execution_count": null,
   "metadata": {},
   "outputs": [],
   "source": [
    "plt.figure(figsize=(12,5))\n",
    "plt.subplot(1,2,1)\n",
    "plt.plot(df['Date'], df['CO2 [ppm]'])\n",
    "plt.plot(df['Date'], df['seasonally adjusted fit [ppm]'], label='seasonally adjusted')\n",
    "plt.xlim([1960., 2019.])\n",
    "plt.xlabel(\"Year\")\n",
    "plt.ylabel(r\"CO$_{2}$ [ppm]\")\n",
    "plt.legend()\n",
    "plt.grid(True)\n",
    "\n",
    "plt.subplot(1,2,2)\n",
    "plt.plot(df['Date'], df['CO2 [ppm]'])\n",
    "plt.plot(df['Date'], df['seasonally adjusted fit [ppm]'])\n",
    "plt.xlim([2015., 2019.])\n",
    "plt.ylim([395.,415.])\n",
    "plt.xlabel(\"Year\")\n",
    "plt.ylabel(r\"CO$_{2}$ [ppm]\")\n",
    "plt.xticks(np.arange(2015., 2020.), np.arange(2015, 2020));\n",
    "plt.grid(True)\n",
    "plt.suptitle(r\"CO$_{2}$ concentrations at Mauna Loa Observatory, Hawaii\");\n",
    "\n",
    "plt.savefig('figures/co2_mauna_loa.png', dpi=100, bbox_inches='tight')"
   ]
  },
  {
   "cell_type": "markdown",
   "metadata": {},
   "source": [
    "##### Exercise: analyze a dataset of your chocie"
   ]
  },
  {
   "cell_type": "code",
   "execution_count": null,
   "metadata": {},
   "outputs": [],
   "source": [
    "dataset_list"
   ]
  },
  {
   "cell_type": "markdown",
   "metadata": {
    "toc-hr-collapsed": true
   },
   "source": [
    "#### `cartopy`: geospatial data processing in order to produce maps and other geospatial data analyses."
   ]
  },
  {
   "cell_type": "markdown",
   "metadata": {},
   "source": [
    "##### About `cartopy`\n",
    "\n",
    "From their [website](https://scitools.org.uk/cartopy/docs/latest/):\n",
    ">Cartopy makes use of the powerful PROJ.4, NumPy and Shapely libraries and includes a programmatic interface built on top of Matplotlib for the creation of publication quality maps.\n",
    ">\n",
    ">Key features of cartopy are its object oriented projection definitions, and its ability to transform points, lines, vectors, polygons and images between those projections.\n",
    ">\n",
    ">You will find cartopy especially useful for large area / small scale data, where Cartesian assumptions of spherical data traditionally break down. If you’ve ever experienced a singularity at the pole or a cut-off at the dateline, it is likely you will appreciate cartopy’s unique features!"
   ]
  },
  {
   "cell_type": "code",
   "execution_count": null,
   "metadata": {},
   "outputs": [],
   "source": [
    "import cartopy"
   ]
  },
  {
   "cell_type": "markdown",
   "metadata": {},
   "source": [
    "##### Example: plotting recent Earthquake data on a map of the globe"
   ]
  },
  {
   "cell_type": "code",
   "execution_count": null,
   "metadata": {},
   "outputs": [],
   "source": [
    "df = pd.read_csv(\"data/\"+csv_list[1])\n",
    "df.head()"
   ]
  },
  {
   "cell_type": "code",
   "execution_count": null,
   "metadata": {},
   "outputs": [],
   "source": [
    "proj = cartopy.crs.Robinson(central_longitude=200.)\n",
    "geo = cartopy.crs.PlateCarree()\n",
    "\n",
    "fig = plt.figure(figsize=(10, 5))\n",
    "ax = fig.add_subplot(1, 1, 1, projection=proj)\n",
    "\n",
    "ax.set_global()\n",
    "\n",
    "ax.stock_img()\n",
    "ax.coastlines()\n",
    "\n",
    "scatter = ax.scatter(df['longitude'], df['latitude'], s=(df['mag']-4.)*100.,\n",
    "                     alpha=0.7, edgecolor='k', marker='o', color='r',\n",
    "                     transform=geo)\n",
    "\n",
    "# produce a legend with a cross section of sizes from the scatter\n",
    "handles, labels = scatter.legend_elements(num=[100., 200.], prop=\"sizes\", alpha=0.6)\n",
    "labels = [\n",
    "    f'$\\\\mathdefault{{{100/100.+4.}}}$',\n",
    "    f'$\\\\mathdefault{{{200/100.+4.}}}$'\n",
    "]\n",
    "legend2 = ax.legend(handles, labels, loc=\"upper right\", title=\"Magnitude\")\n",
    "\n",
    "plt.savefig('figures/recent_earthquakes.png', dpi=100, bbox_inches='tight')"
   ]
  },
  {
   "cell_type": "code",
   "execution_count": null,
   "metadata": {},
   "outputs": [],
   "source": []
  },
  {
   "cell_type": "code",
   "execution_count": null,
   "metadata": {},
   "outputs": [],
   "source": []
  },
  {
   "cell_type": "code",
   "execution_count": null,
   "metadata": {},
   "outputs": [],
   "source": []
  },
  {
   "cell_type": "code",
   "execution_count": null,
   "metadata": {},
   "outputs": [],
   "source": []
  }
 ],
 "metadata": {
  "kernelspec": {
   "display_name": "Python 3",
   "language": "python",
   "name": "python3"
  },
  "language_info": {
   "codemirror_mode": {
    "name": "ipython",
    "version": 3
   },
   "file_extension": ".py",
   "mimetype": "text/x-python",
   "name": "python",
   "nbconvert_exporter": "python",
   "pygments_lexer": "ipython3",
   "version": "3.8.1"
  },
  "toc-autonumbering": false,
  "toc-showcode": false,
  "toc-showmarkdowntxt": false
 },
 "nbformat": 4,
 "nbformat_minor": 4
}
