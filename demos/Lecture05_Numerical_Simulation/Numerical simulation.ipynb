{
 "cells": [
  {
   "cell_type": "code",
   "execution_count": 2,
   "metadata": {
    "slideshow": {
     "slide_type": "skip"
    }
   },
   "outputs": [],
   "source": [
    "import numpy as np\n",
    "import matplotlib.pyplot as plt\n",
    "from matplotlib import rc\n",
    "%matplotlib inline\n",
    "plt.rcParams.update({'font.size':20})"
   ]
  },
  {
   "attachments": {},
   "cell_type": "markdown",
   "metadata": {
    "slideshow": {
     "slide_type": "slide"
    }
   },
   "source": [
    "## How do numerical models work and why is my model *not* working?\n",
    "<img src=\"variables-climate-models-Earth-forces-behaviour-materials.jpg\" alt=\"Climate model schematic\" style=\"width: 500px;\"/>"
   ]
  },
  {
   "cell_type": "markdown",
   "metadata": {
    "slideshow": {
     "slide_type": "slide"
    }
   },
   "source": [
    "## Finite differencing\n",
    "\n",
    "Most of the models used in earth sciences are solving partial differential equations. In order to simulate differential equations, we need to discretize space and time dimensions. For example take the equation\n",
    "\n",
    "$\\frac{\\partial c(x,t)}{\\partial t} = u(x) \\frac{\\partial c(x,t)}{\\partial x}$\n",
    "\n",
    "$c(x,0) = c_0$\n",
    "\n",
    "$c(0,t) = 0$\n",
    "\n",
    "We first discretize in time\n",
    "\n",
    "$\\frac{c^{n+1}-c^n}{\\Delta t} = u(x) \\frac{\\partial c^n}{\\partial x}$\n",
    "\n",
    "Next we discretize in space\n",
    "\n",
    "$\\frac{c^{n+1}-c^n}{\\Delta t} = u_{i-1/2} \\frac{c^n_{i}-c^n_{i-1}}{\\Delta x}$\n",
    "\n",
    "Re-arranging, we solve for the concentration at a future time as\n",
    "\n",
    "$c^{n+1} = c^n + \\frac{\\Delta t}{\\Delta x} u_{i-1/2} (c^n_{i}-c^n_{i-1})$"
   ]
  },
  {
   "cell_type": "markdown",
   "metadata": {
    "slideshow": {
     "slide_type": "slide"
    }
   },
   "source": [
    "### Numerical dissipation\n",
    "\n",
    "We will use an upwind finite difference scheme, to illustrate the concept of **numerical dissipation**"
   ]
  },
  {
   "cell_type": "code",
   "execution_count": 3,
   "metadata": {
    "slideshow": {
     "slide_type": "slide"
    }
   },
   "outputs": [],
   "source": [
    "def upwind_difference1D(c,u,dt,dx):\n",
    "    cnew = c[1:] - (u[1:]+u[:-1])/2*dt/dx*(c[1:]-c[:-1])\n",
    "    cnew = np.append(0.,cnew) # boundary condition\n",
    "    return cnew"
   ]
  },
  {
   "cell_type": "code",
   "execution_count": 4,
   "metadata": {
    "scrolled": true,
    "slideshow": {
     "slide_type": "subslide"
    }
   },
   "outputs": [
    {
     "data": {
      "text/plain": [
       "Text(0, 0.5, 'c')"
      ]
     },
     "execution_count": 4,
     "metadata": {},
     "output_type": "execute_result"
    },
    {
     "data": {
      "image/png": "[encoded data removed]",
      "text/plain": [
       "<Figure size 432x288 with 1 Axes>"
      ]
     },
     "metadata": {
      "needs_background": "light"
     },
     "output_type": "display_data"
    }
   ],
   "source": [
    "# Initial condition\n",
    "c0 = np.zeros(1000)\n",
    "Lx = 100\n",
    "c0[101:200] = np.sin(2*np.pi*np.arange(101,200)/Lx)\n",
    "x = np.arange(1000)\n",
    "plt.plot(x,c0,'k')\n",
    "plt.xlabel('x')\n",
    "plt.ylabel('c')"
   ]
  },
  {
   "cell_type": "markdown",
   "metadata": {},
   "source": [
    "## Exercise: Effects of numerical parameters\n",
    "Alter the parameters 'dt', 'dx', and 'u' and run the three cells below. Describe the differences as you change the parameters"
   ]
  },
  {
   "cell_type": "code",
   "execution_count": 5,
   "metadata": {
    "slideshow": {
     "slide_type": "subslide"
    }
   },
   "outputs": [
    {
     "name": "stdout",
     "output_type": "stream",
     "text": [
      "0.75\n"
     ]
    }
   ],
   "source": [
    "# Choose parameters\n",
    "dt = 1.5\n",
    "dx = 1.0\n",
    "u  = 0.5*np.ones(c0.shape)\n",
    "print(max(u)*dt/dx)"
   ]
  },
  {
   "cell_type": "code",
   "execution_count": 6,
   "metadata": {
    "slideshow": {
     "slide_type": "subslide"
    }
   },
   "outputs": [],
   "source": [
    "T = 1000\n",
    "nt = T/dt # number of timesteps\n",
    "# Numerical solution\n",
    "c1 = c0\n",
    "for i in np.arange(nt):\n",
    "    c1 = upwind_difference1D(c1,u,dt,dx)"
   ]
  },
  {
   "cell_type": "code",
   "execution_count": 7,
   "metadata": {
    "slideshow": {
     "slide_type": "subslide"
    }
   },
   "outputs": [
    {
     "name": "stdout",
     "output_type": "stream",
     "text": [
      "Maximum value is 0.7838765311254552\n"
     ]
    },
    {
     "data": {
      "image/png": "[encoded data removed]",
      "text/plain": [
       "<Figure size 432x288 with 1 Axes>"
      ]
     },
     "metadata": {
      "needs_background": "light"
     },
     "output_type": "display_data"
    }
   ],
   "source": [
    "plt.plot(x+u*dt*nt,c0,'k--')\n",
    "plt.plot(x,c1,'k')\n",
    "plt.xlim((0,1000))\n",
    "plt.legend(('exact','numerical'))\n",
    "plt.xlabel('x')\n",
    "plt.ylabel('c')\n",
    "print('Maximum value is '+str(max(c1)))"
   ]
  },
  {
   "cell_type": "markdown",
   "metadata": {
    "slideshow": {
     "slide_type": "slide"
    }
   },
   "source": [
    "### Numerical dispersion\n",
    "\n",
    "By altering the *numerical solver* we can reduce the numerical diffusion. Instead of the previous upwind scheme, we will instead use a centered differencing scheme\n",
    "\n",
    "$\\frac{c^{n+1}-c^n}{\\Delta t} = u_{i} \\frac{1}{12} \\frac{c^n_{i-2}-8*c^n_{i-1}+8*c^n_{i+1}-c^n_{i+2}}{\\Delta x}$\n",
    "\n",
    "This scheme does not give an exact solution, instead resulting numerical dispersion"
   ]
  },
  {
   "cell_type": "code",
   "execution_count": 8,
   "metadata": {
    "slideshow": {
     "slide_type": "subslide"
    }
   },
   "outputs": [],
   "source": [
    "def centered_difference1D(c,u,dt,dx):\n",
    "    # This scheme is a 4th order centered difference\n",
    "    N = c.shape[0]\n",
    "    cnew = np.zeros(N)\n",
    "    for i in np.arange(2,N-2):\n",
    "        cnew[i] = c[i] - u[i]*dt/dx*1/12*(c[i-2]-8*c[i-1]+8*c[i+1]-c[i+2])\n",
    "    #cnew = np.append(np.zeros(2),cnew) # boundary condition\n",
    "    return cnew"
   ]
  },
  {
   "cell_type": "code",
   "execution_count": 9,
   "metadata": {
    "slideshow": {
     "slide_type": "skip"
    }
   },
   "outputs": [
    {
     "data": {
      "text/plain": [
       "Text(0, 0.5, 'c')"
      ]
     },
     "execution_count": 9,
     "metadata": {},
     "output_type": "execute_result"
    },
    {
     "data": {
      "image/png": "[encoded data removed]",
      "text/plain": [
       "<Figure size 432x288 with 1 Axes>"
      ]
     },
     "metadata": {
      "needs_background": "light"
     },
     "output_type": "display_data"
    }
   ],
   "source": [
    "# Initial condition\n",
    "c0 = np.zeros(1000)\n",
    "Lx = 100\n",
    "c0[101:200] = np.sin(2*np.pi*np.arange(101,200)/Lx)\n",
    "x = np.arange(1000)\n",
    "plt.plot(x,c0,'k')\n",
    "plt.xlabel('x')\n",
    "plt.ylabel('c')"
   ]
  },
  {
   "cell_type": "markdown",
   "metadata": {},
   "source": [
    "## Exercise: Effects of numerical parameters\n",
    "Alter the parameters 'dt', 'dx', and 'u' and run the three cells below. Describe the differences as you change the parameters"
   ]
  },
  {
   "cell_type": "code",
   "execution_count": 10,
   "metadata": {
    "slideshow": {
     "slide_type": "subslide"
    }
   },
   "outputs": [
    {
     "name": "stdout",
     "output_type": "stream",
     "text": [
      "0.5\n"
     ]
    }
   ],
   "source": [
    "# Choose parameters\n",
    "dt = 0.5\n",
    "dx = 1.0\n",
    "u  = 1.0*np.ones(c0.shape)\n",
    "print(max(u)*dt/dx)"
   ]
  },
  {
   "cell_type": "code",
   "execution_count": 11,
   "metadata": {
    "slideshow": {
     "slide_type": "subslide"
    }
   },
   "outputs": [],
   "source": [
    "T = 10\n",
    "nt = T/dt # number of timesteps\n",
    "# Numerical solution\n",
    "c1 = c0\n",
    "for i in np.arange(nt):\n",
    "    c1 = centered_difference1D(c1,u,dt,dx)"
   ]
  },
  {
   "cell_type": "code",
   "execution_count": 12,
   "metadata": {
    "slideshow": {
     "slide_type": "subslide"
    }
   },
   "outputs": [
    {
     "name": "stdout",
     "output_type": "stream",
     "text": [
      "Maximum value is 1.0099135220983153\n"
     ]
    },
    {
     "data": {
      "image/png": "[encoded data removed]",
      "text/plain": [
       "<Figure size 432x288 with 1 Axes>"
      ]
     },
     "metadata": {
      "needs_background": "light"
     },
     "output_type": "display_data"
    }
   ],
   "source": [
    "plt.plot(x+u*dt*nt,c0,'k--')\n",
    "plt.plot(x,c1,'k')\n",
    "plt.xlim((0,1000))\n",
    "plt.legend(('exact','numerical'))\n",
    "plt.xlabel('x')\n",
    "plt.ylabel('c')\n",
    "print('Maximum value is '+str(max(c1)))"
   ]
  },
  {
   "cell_type": "markdown",
   "metadata": {
    "slideshow": {
     "slide_type": "slide"
    }
   },
   "source": [
    "## Convergence condition\n",
    "In the past two examples, we saw that the amount of numerical dissipation and the stability of the solution depends on the factor $\\frac{u \\Delta t}{\\Delta x}$. This value is called the \"convergence condition\" or Courant–Friedrichs–Lewy (CFL) condition and must be less than or equal to one. This is an important thing to keep in mind when simulating partial differential equations."
   ]
  },
  {
   "cell_type": "markdown",
   "metadata": {},
   "source": [
    "## Numerical methods and grids"
   ]
  },
  {
   "cell_type": "markdown",
   "metadata": {},
   "source": [
    "In Earth sciences, most models do not use finite differencing, instead they will use\n",
    "- Finite volume method\n",
    "- Finite element method\n",
    "- Spectral methods\n",
    "\n",
    "The preferred numerical method and solver will depend on the application."
   ]
  },
  {
   "cell_type": "markdown",
   "metadata": {},
   "source": [
    "The other aspect of a model set-up that is important to consider is the grid type. Grid types are classified into Arakawa grids.\n",
    "\n",
    "(image Delandmeter and Erik van Sebille 2018)\n",
    "<img src=\"grids.png\" alt=\"Arakawa grid\" style=\"width: 500px;\"/>\n",
    "\n",
    "**Vertical** grids may be sigma grids or pressure grids (or hybrids)"
   ]
  },
  {
   "cell_type": "markdown",
   "metadata": {},
   "source": [
    "# Opening the black box"
   ]
  },
  {
   "cell_type": "markdown",
   "metadata": {},
   "source": [
    "Large models will use a compiled language (most often C or Fortran), which can be optimized to run quickly"
   ]
  },
  {
   "cell_type": "markdown",
   "metadata": {},
   "source": [
    "#### Coding in Fortran\n",
    "A few important pointers for coding in Fortran:\n",
    "- All variables need to be declared with a type\n",
    "\n",
    "INTEGER i, j, k\n",
    "\n",
    "- Comments are made with \"C\" or \"!\"\n",
    "- Programs are organized as a main program and subroutines (these may be in different files)"
   ]
  },
  {
   "cell_type": "markdown",
   "metadata": {},
   "source": [
    "#### Compiling\n",
    "Compiled languages need to be recompiled into an *executable* every time you make a change to the source code\n",
    "\n",
    "Make is the program that directs the compiler how to link different parts of the code together using a Makefile. The Makefile includes information that is specific to your model, computer, and compiler"
   ]
  },
  {
   "cell_type": "markdown",
   "metadata": {},
   "source": [
    "### Structure of the model\n",
    "The directory structure of the model \n",
    "- model: contains the main source code.\n",
    "    - src: source code\n",
    "    - inc: includes files\n",
    "- eesupp: contains the execution environment source code. \n",
    "- pkg: contains the source code for the packages, many of which are parameterizations\n",
    "- doc: contains MITgcm documentation\n",
    "- tools: contains various useful tools. For example, genmake2 is a script written in bash that should be used to generate your makefile.\n",
    "- verification: contains the model examples\n",
    "- jobs: contains sample job scripts for running MITgcm"
   ]
  },
  {
   "cell_type": "markdown",
   "metadata": {},
   "source": [
    "#### Includes files\n",
    "\n",
    "These have model components, particularly variables and are used with \"include\" statements\n",
    "\n",
    "ifdef ALLOW_GMREDI  \n",
    "&emsp;include \"GMREDI.h\"  \n",
    "endif"
   ]
  },
  {
   "cell_type": "markdown",
   "metadata": {},
   "source": [
    "#### Your model run\n",
    "\n",
    "You won't modify any of the main code for a typical model run, instead you will copy the codes to your own directory that contains your own model set-up. This folder has a similar structure\n",
    "- build\n",
    "- code\n",
    "- input\n",
    "- results\n",
    "- run"
   ]
  },
  {
   "cell_type": "markdown",
   "metadata": {},
   "source": [
    "#### Build\n",
    "\n",
    "Where the compiled files will be placed"
   ]
  },
  {
   "cell_type": "markdown",
   "metadata": {},
   "source": [
    "#### Code\n",
    "Modified source code and includes files should be placed here"
   ]
  },
  {
   "cell_type": "markdown",
   "metadata": {},
   "source": [
    "#### Input\n",
    "\n",
    "Any input files are placed here, including data to be read in and the namelist"
   ]
  },
  {
   "cell_type": "markdown",
   "metadata": {},
   "source": [
    "#### Results\n",
    "\n",
    "Contains text files with output from the model run"
   ]
  },
  {
   "cell_type": "markdown",
   "metadata": {},
   "source": [
    "#### Run\n",
    "\n",
    "What we've been waiting for! Where you submit your job and get the output!"
   ]
  },
  {
   "cell_type": "markdown",
   "metadata": {},
   "source": [
    "## Exercise: Reading Fortran code\n",
    "- Go to [diffchecker.com](https://www.diffchecker.com/diff) and compare the differences between a file in the \"model\" folder and a file with the same filename in one of the examples.  \n",
    "- Choose one file with a \".F\" file extension and one file with a \".h\" file extension. Explain the differences between the changes made in these two types of files"
   ]
  },
  {
   "cell_type": "markdown",
   "metadata": {},
   "source": [
    "## Input/Output\n",
    "\n",
    "We don't want to have to recompile everytime we make a change so some data (e.g. forcing or boundary conditions) and parameter values (e.g. grid resolution) can be in input files. These input files are often read into groups of variables called *namelists*\n",
    "\n",
    "## Exercise: what's in the namelists?\n",
    "\n",
    "The input parameters for the namelists are in a file called 'data' in the MITgcm 'input' directory. How would you change the variables that relate to the CFL condition in an MITgcm namelist? Give examples of two different cases and the parameters that you would choose."
   ]
  },
  {
   "cell_type": "markdown",
   "metadata": {},
   "source": []
  }
 ],
 "metadata": {
  "kernelspec": {
   "display_name": "Python 3",
   "language": "python",
   "name": "python3"
  },
  "language_info": {
   "codemirror_mode": {
    "name": "ipython",
    "version": 3
   },
   "file_extension": ".py",
   "mimetype": "text/x-python",
   "name": "python",
   "nbconvert_exporter": "python",
   "pygments_lexer": "ipython3",
   "version": "3.7.3"
  }
 },
 "nbformat": 4,
 "nbformat_minor": 2
}
